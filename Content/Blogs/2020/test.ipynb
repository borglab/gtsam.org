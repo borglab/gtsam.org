{
 "cells": [
  {
   "cell_type": "code",
   "execution_count": null,
   "metadata": {},
   "outputs": [],
   "source": [
    "import plotly.graph_objects as go\n",
    "import json\n",
    "\n",
    "# Load the JSON data for points and configuration\n",
    "with open('_static/release_403/cayley-div.json', 'r') as f:\n",
    "    cayley_points = json.load(f)\n",
    "\n",
    "with open('_static/release_403/cayley-conf.json', 'r') as f:\n",
    "    cayley_conf = json.load(f)\n",
    "\n",
    "# Plot the Cayley graph\n",
    "fig1 = go.Figure(data=cayley_points)\n",
    "fig1.update_layout(cayley_conf)\n",
    "\n",
    "fig1.update_layout(\n",
    "    autosize=True,\n",
    "    height=600,  # Adjust height\n",
    "    width=800,  # Adjust width\n",
    "    title=\"Cayley Graph\"\n",
    ")\n",
    "\n",
    "fig1.show()\n",
    "\n",
    "# Load the JSON data for the full graph\n",
    "with open('_static/release_403/full-div.json', 'r') as f:\n",
    "    full_points = json.load(f)\n",
    "\n",
    "with open('_static/release_403/full-conf.json', 'r') as f:\n",
    "    full_conf = json.load(f)\n",
    "\n",
    "# Plot the Full graph\n",
    "fig2 = go.Figure(data=full_points)\n",
    "fig2.update_layout(full_conf)\n",
    "\n",
    "fig2.update_layout(\n",
    "    autosize=True,\n",
    "    height=600,  # Adjust height\n",
    "    width=800,  # Adjust width\n",
    "    title=\"Full Graph\"\n",
    ")\n",
    "\n",
    "fig2.show()\n"
   ]
  }
 ],
 "metadata": {
  "language_info": {
   "name": "python"
  }
 },
 "nbformat": 4,
 "nbformat_minor": 2
}

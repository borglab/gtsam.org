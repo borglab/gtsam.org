{
 "cells": [
  {
   "cell_type": "markdown",
   "metadata": {},
   "source": [
    "---\n",
    "file_format: mystnb\n",
    "kernelspec:\n",
    "  name: python3\n",
    "title:      LOST in Triangulation\n",
    "date:       2023-02-04\n",
    "authors:\n",
    "  - name:   Akshay Krishnan\n",
    "    url:    https://akshay-krishnan.github.io/\n",
    "  - name:   Sebastien Henry\n",
    "    url:    https://seal.ae.gatech.edu/node/14\n",
    "  - name:   Frank Dellaert\n",
    "    url:    https://dellaert.github.io/\n",
    "  - name:   John Christian\n",
    "    url:    https://seal.ae.gatech.edu/node/1\n",
    "\n",
    "---"
   ]
  },
  {
   "cell_type": "markdown",
   "metadata": {},
   "source": [
    "\n",
    "This post introduces the triangulation problem and some commonly used solutions (both optimal and sub-optimal), along with GTSAM code examples. We also discuss a recently proposed **linear optimal sine triangulation method (LOST)** and compare its performance to other methods. \n",
    "\n",
    ":::{admonition} TL;DR:\n",
    "\n",
    "LOST can be easily enabled in GTSAM by setting `useLOST=True` in `triangulatePoint3` to get state-of-the-art linear triangulation!\n",
    ":::\n",
    "\n",
    "# The triangulation problem\n",
    "\n",
    "**Triangulation** is the problem of estimating the location of a 3D point from multiple direction measurements. The problem is commonly encountered in the domains of 3D reconstruction, robot localization, and spacecraft navigation, amongst others. The \"direction measurements\" are usually obtained from 2D observations of the same 3D point in different cameras.\n",
    "\n",
    "<br>  \n",
    "\n",
    "## A simple solution: the Direct Linear Transform\n",
    "\n",
    "A commonly used method for triangulation is the **Direct Linear Transform (DLT)**, which poses the estimation of the 3D point as a least squares problem. Given the position of camera $i$ in the world frame as $\\mathbf{^wp_i}$ and the 2D measurement (in homogeneous coordinates) of the point in this camera as $\\mathbf{x_i}$, it uses the following constraint:\n",
    "\n",
    "```{math}\n",
    ":label: dlt-constraint\n",
    " \\mathbf{x_i} \\times \\mathbf{R^i_w} (\\mathbf{^wr} - \\mathbf{^wp_i})  &= \\mathbf{0} \\\\\n",
    "\n",
    "\\text{i.e } [\\mathbf{x_i} \\times] \\mathbf{R^i_w} (\\mathbf{^wr} - \\mathbf{^wp_i})  &= \\mathbf{0}\n",
    "```\n",
    "\n",
    "Here: \n",
    "- $\\mathbf{^wr}$ is the position of the 3D point in the world frame, which is to be estimated\n",
    "- $[\\mathbf{x_i} \\times]$ is a skew-symmetric matrix with elements $\\mathbf{x_i}$, such that $[\\mathbf{x_i} \\times] \\ \\mathbf{b} = \\mathbf{x_i} \\times \\mathbf{b}$ \n",
    "- $\\mathbf{R^i_w} \\in SO(3)$ is the rotation from world to camera frame $i$\n",
    "\n",
    "{eq}`dlt-constraint` can be expressed in terms of the pixel measurements $\\mathbf{u_i} = \\mathbf{K_i} \\mathbf{x_i}$ using the intrinsic calibration matrix of the camera $\\mathbf{K_i}$:\n",
    "\n",
    "```{math}\n",
    "    [\\mathbf{K_i^{-1}} \\mathbf{u_i} \\times] \\mathbf{R^i_w} (\\mathbf{^wr} - \\mathbf{^wp_i})  = \\mathbf{0}\n",
    "```\n",
    "\n",
    "With at least 2 camera measurements, this can be expressed as a least-squares problem of the form $\\mathbf{A x} = \\mathbf{b}$ with a unique solution (except in some degenerate conditions). For $n$ measurements, this equation is:\n",
    "\n",
    "$$\n",
    "\\begin{equation}\n",
    "\\left[\\begin{array}{c}\n",
    "\\left[\\mathbf{K_1^{-1}} \\mathbf{u_1} \\times\\right] \\mathbf{R^1_w} \\cr\t\\\\\n",
    "\\left[\\mathbf{K_2^{-1}} \\mathbf{u_2} \\times\\right] \\mathbf{R^2_w} \\cr\t\\\\\n",
    "... \\cr \\\\\n",
    "\\left[\\mathbf{K_n^{-1}} \\mathbf{u_n} \\times\\right] \\mathbf{R^n_w} \\cr\n",
    "\\end{array}\\right] \\mathbf{^wr} = \n",
    "\\left[\\begin{array}{c}\n",
    "\\left[\\mathbf{K_1^{-1}} \\mathbf{u_1} \\times\\right] \\mathbf{R^1_w} \\mathbf{^wp_1} \\cr\t\\\\\n",
    "\\left[\\mathbf{K_2^{-1}} \\mathbf{u_2} \\times\\right] \\mathbf{R^2_w} \\mathbf{^wp_2} \\cr\t\\\\\n",
    "... \\cr \\\\\n",
    "\\left[\\mathbf{K_n^{-1}} \\mathbf{u_n} \\times\\right] \\mathbf{R^n_w} \\mathbf{^wp_n} \\cr\n",
    "\\end{array}\\right]\n",
    "\\end{equation}\n",
    "$$ (least-squares)\n",
    "\n",
    "\n",
    "DLT solves the above equation using standard least-squares techniques. It also has interesting connections to the trigonometric sine rule, as discussed in the [LOST paper](https://doi.org/10.2514/1.G006989) ([Arxiv](https://arxiv.org/pdf/2205.12197.pdf)).\n",
    "\n",
    "The `triangulatePoint3` function in GTSAM provides a convenient way to triangulate points using DLT. Let's look at an example of triangulating a point from noisy measurements. \n",
    "\n",
    "```python\n",
    "import gtsam\n",
    "import numpy as np\n",
    "from gtsam import Pose3, Rot3, Point3\n",
    "\n",
    "# Define parameters for 2 cameras, with shared intrinsics.\n",
    "pose1 = Pose3()\n",
    "pose2 = Pose3(Rot3(), Point3(5., 0., -5.))\n",
    "intrinsics = gtsam.Cal3_S2()\n",
    "camera1 = gtsam.PinholeCameraCal3_S2(pose1, intrinsics)\n",
    "camera2 = gtsam.PinholeCameraCal3_S2(pose2, intrinsics)\n",
    "cameras = gtsam.CameraSetCal3_S2([camera1, camera2])\n",
    "\n",
    "# Define a 3D point, generate measurements by projecting it to the \n",
    "# cameras and adding some noise.\n",
    "landmark = Point3(0.1, 0.1, 1.5)\n",
    "m1_noisy = cameras[0].project(landmark) + gtsam.Point2(0.00817, 0.00977)\n",
    "m2_noisy = cameras[1].project(landmark) + gtsam.Point2(-0.00610, 0.01969)\n",
    "measurements = gtsam.Point2Vector([m1_noisy, m2_noisy])\n",
    "\n",
    "# Triangulate!\n",
    "dlt_estimate = gtsam.triangulatePoint3(cameras, measurements, rank_tol=1e-9, optimize=False)\n",
    "print(\"DLT estimation error: {:.04f}\".format(np.linalg.norm(dlt_estimate - landmark)))\n",
    "```\n",
    "\n",
    "```sh\n",
    "DLT estimation error: 0.0832\n",
    "```\n",
    "\n",
    "Here is an interactive visualization of the DLT estimate, the two camera frustums, and the back-projected rays. Note the difference between the ground truth and the triangulated point. We shall revisit this example below, and compare it against the result from other methods."
   ]
  },
  {
   "cell_type": "code",
   "execution_count": 5,
   "metadata": {
    "tags": [
     "hide-input"
    ]
   },
   "outputs": [
    {
     "data": {
      "application/vnd.plotly.v1+json": {
       "config": {
        "plotlyServerURL": "https://plot.ly"
       },
       "data": [
        {
         "mode": "lines",
         "name": "camera 1",
         "type": "scatter3d",
         "x": [
          0,
          -0.8,
          null,
          0,
          -0.8,
          null,
          0,
          0.8,
          null,
          0,
          0.8,
          null,
          -0.8,
          -0.8,
          null,
          -0.8,
          0.8,
          null,
          0.8,
          -0.8,
          null,
          0.8,
          0.8,
          null
         ],
         "y": [
          0,
          -0.6,
          null,
          0,
          0.6,
          null,
          0,
          -0.6,
          null,
          0,
          0.6,
          null,
          -0.6,
          0.6,
          null,
          0.6,
          0.6,
          null,
          -0.6,
          -0.6,
          null,
          0.6,
          -0.6,
          null
         ],
         "z": [
          0,
          1,
          null,
          0,
          1,
          null,
          0,
          1,
          null,
          0,
          1,
          null,
          1,
          1,
          null,
          1,
          1,
          null,
          1,
          1,
          null,
          1,
          1,
          null
         ]
        },
        {
         "mode": "lines",
         "name": "camera 2",
         "type": "scatter3d",
         "x": [
          5,
          4.2,
          null,
          5,
          4.2,
          null,
          5,
          5.8,
          null,
          5,
          5.8,
          null,
          4.2,
          4.2,
          null,
          4.2,
          5.8,
          null,
          5.8,
          4.2,
          null,
          5.8,
          5.8,
          null
         ],
         "y": [
          0,
          -0.6,
          null,
          0,
          0.6,
          null,
          0,
          -0.6,
          null,
          0,
          0.6,
          null,
          -0.6,
          0.6,
          null,
          0.6,
          0.6,
          null,
          -0.6,
          -0.6,
          null,
          0.6,
          -0.6,
          null
         ],
         "z": [
          -5,
          -4,
          null,
          -5,
          -4,
          null,
          -5,
          -4,
          null,
          -5,
          -4,
          null,
          -4,
          -4,
          null,
          -4,
          -4,
          null,
          -4,
          -4,
          null,
          -4,
          -4,
          null
         ]
        },
        {
         "marker": {
          "size": 2
         },
         "mode": "markers",
         "name": "GT point",
         "type": "scatter3d",
         "x": [
          0.1
         ],
         "y": [
          0.1
         ],
         "z": [
          1.5
         ]
        },
        {
         "marker": {
          "size": 2
         },
         "mode": "markers",
         "name": "DLT estimate",
         "type": "scatter3d",
         "x": [
          0.102
         ],
         "y": [
          0.168
         ],
         "z": [
          1.453
         ]
        },
        {
         "marker": {
          "size": [
           0,
           6,
           0
          ],
          "symbol": "diamond"
         },
         "mode": "lines+markers",
         "name": "ray 1",
         "type": "scatter3d",
         "x": [
          0,
          0.149
         ],
         "y": [
          0,
          0.152
         ],
         "z": [
          0,
          2
         ]
        },
        {
         "marker": {
          "size": [
           0,
           6,
           0
          ],
          "symbol": "diamond"
         },
         "mode": "lines+markers",
         "name": "ray 2",
         "type": "scatter3d",
         "x": [
          5,
          -0.319
         ],
         "y": [
          0,
          0.245
         ],
         "z": [
          -5,
          2
         ]
        }
       ],
       "layout": {
        "legend": {
         "y": 0.96
        },
        "margin": {
         "b": 0,
         "l": 0,
         "r": 0,
         "t": 0
        },
        "scene": {
         "aspectmode": "data"
        },
        "template": {
         "data": {
          "bar": [
           {
            "error_x": {
             "color": "#2a3f5f"
            },
            "error_y": {
             "color": "#2a3f5f"
            },
            "marker": {
             "line": {
              "color": "#E5ECF6",
              "width": 0.5
             },
             "pattern": {
              "fillmode": "overlay",
              "size": 10,
              "solidity": 0.2
             }
            },
            "type": "bar"
           }
          ],
          "barpolar": [
           {
            "marker": {
             "line": {
              "color": "#E5ECF6",
              "width": 0.5
             },
             "pattern": {
              "fillmode": "overlay",
              "size": 10,
              "solidity": 0.2
             }
            },
            "type": "barpolar"
           }
          ],
          "carpet": [
           {
            "aaxis": {
             "endlinecolor": "#2a3f5f",
             "gridcolor": "white",
             "linecolor": "white",
             "minorgridcolor": "white",
             "startlinecolor": "#2a3f5f"
            },
            "baxis": {
             "endlinecolor": "#2a3f5f",
             "gridcolor": "white",
             "linecolor": "white",
             "minorgridcolor": "white",
             "startlinecolor": "#2a3f5f"
            },
            "type": "carpet"
           }
          ],
          "choropleth": [
           {
            "colorbar": {
             "outlinewidth": 0,
             "ticks": ""
            },
            "type": "choropleth"
           }
          ],
          "contour": [
           {
            "colorbar": {
             "outlinewidth": 0,
             "ticks": ""
            },
            "colorscale": [
             [
              0,
              "#0d0887"
             ],
             [
              0.1111111111111111,
              "#46039f"
             ],
             [
              0.2222222222222222,
              "#7201a8"
             ],
             [
              0.3333333333333333,
              "#9c179e"
             ],
             [
              0.4444444444444444,
              "#bd3786"
             ],
             [
              0.5555555555555556,
              "#d8576b"
             ],
             [
              0.6666666666666666,
              "#ed7953"
             ],
             [
              0.7777777777777778,
              "#fb9f3a"
             ],
             [
              0.8888888888888888,
              "#fdca26"
             ],
             [
              1,
              "#f0f921"
             ]
            ],
            "type": "contour"
           }
          ],
          "contourcarpet": [
           {
            "colorbar": {
             "outlinewidth": 0,
             "ticks": ""
            },
            "type": "contourcarpet"
           }
          ],
          "heatmap": [
           {
            "colorbar": {
             "outlinewidth": 0,
             "ticks": ""
            },
            "colorscale": [
             [
              0,
              "#0d0887"
             ],
             [
              0.1111111111111111,
              "#46039f"
             ],
             [
              0.2222222222222222,
              "#7201a8"
             ],
             [
              0.3333333333333333,
              "#9c179e"
             ],
             [
              0.4444444444444444,
              "#bd3786"
             ],
             [
              0.5555555555555556,
              "#d8576b"
             ],
             [
              0.6666666666666666,
              "#ed7953"
             ],
             [
              0.7777777777777778,
              "#fb9f3a"
             ],
             [
              0.8888888888888888,
              "#fdca26"
             ],
             [
              1,
              "#f0f921"
             ]
            ],
            "type": "heatmap"
           }
          ],
          "histogram": [
           {
            "marker": {
             "pattern": {
              "fillmode": "overlay",
              "size": 10,
              "solidity": 0.2
             }
            },
            "type": "histogram"
           }
          ],
          "histogram2d": [
           {
            "colorbar": {
             "outlinewidth": 0,
             "ticks": ""
            },
            "colorscale": [
             [
              0,
              "#0d0887"
             ],
             [
              0.1111111111111111,
              "#46039f"
             ],
             [
              0.2222222222222222,
              "#7201a8"
             ],
             [
              0.3333333333333333,
              "#9c179e"
             ],
             [
              0.4444444444444444,
              "#bd3786"
             ],
             [
              0.5555555555555556,
              "#d8576b"
             ],
             [
              0.6666666666666666,
              "#ed7953"
             ],
             [
              0.7777777777777778,
              "#fb9f3a"
             ],
             [
              0.8888888888888888,
              "#fdca26"
             ],
             [
              1,
              "#f0f921"
             ]
            ],
            "type": "histogram2d"
           }
          ],
          "histogram2dcontour": [
           {
            "colorbar": {
             "outlinewidth": 0,
             "ticks": ""
            },
            "colorscale": [
             [
              0,
              "#0d0887"
             ],
             [
              0.1111111111111111,
              "#46039f"
             ],
             [
              0.2222222222222222,
              "#7201a8"
             ],
             [
              0.3333333333333333,
              "#9c179e"
             ],
             [
              0.4444444444444444,
              "#bd3786"
             ],
             [
              0.5555555555555556,
              "#d8576b"
             ],
             [
              0.6666666666666666,
              "#ed7953"
             ],
             [
              0.7777777777777778,
              "#fb9f3a"
             ],
             [
              0.8888888888888888,
              "#fdca26"
             ],
             [
              1,
              "#f0f921"
             ]
            ],
            "type": "histogram2dcontour"
           }
          ],
          "mesh3d": [
           {
            "colorbar": {
             "outlinewidth": 0,
             "ticks": ""
            },
            "type": "mesh3d"
           }
          ],
          "parcoords": [
           {
            "line": {
             "colorbar": {
              "outlinewidth": 0,
              "ticks": ""
             }
            },
            "type": "parcoords"
           }
          ],
          "pie": [
           {
            "automargin": true,
            "type": "pie"
           }
          ],
          "scatter": [
           {
            "fillpattern": {
             "fillmode": "overlay",
             "size": 10,
             "solidity": 0.2
            },
            "type": "scatter"
           }
          ],
          "scatter3d": [
           {
            "line": {
             "colorbar": {
              "outlinewidth": 0,
              "ticks": ""
             }
            },
            "marker": {
             "colorbar": {
              "outlinewidth": 0,
              "ticks": ""
             }
            },
            "type": "scatter3d"
           }
          ],
          "scattercarpet": [
           {
            "marker": {
             "colorbar": {
              "outlinewidth": 0,
              "ticks": ""
             }
            },
            "type": "scattercarpet"
           }
          ],
          "scattergeo": [
           {
            "marker": {
             "colorbar": {
              "outlinewidth": 0,
              "ticks": ""
             }
            },
            "type": "scattergeo"
           }
          ],
          "scattergl": [
           {
            "marker": {
             "colorbar": {
              "outlinewidth": 0,
              "ticks": ""
             }
            },
            "type": "scattergl"
           }
          ],
          "scattermap": [
           {
            "marker": {
             "colorbar": {
              "outlinewidth": 0,
              "ticks": ""
             }
            },
            "type": "scattermap"
           }
          ],
          "scattermapbox": [
           {
            "marker": {
             "colorbar": {
              "outlinewidth": 0,
              "ticks": ""
             }
            },
            "type": "scattermapbox"
           }
          ],
          "scatterpolar": [
           {
            "marker": {
             "colorbar": {
              "outlinewidth": 0,
              "ticks": ""
             }
            },
            "type": "scatterpolar"
           }
          ],
          "scatterpolargl": [
           {
            "marker": {
             "colorbar": {
              "outlinewidth": 0,
              "ticks": ""
             }
            },
            "type": "scatterpolargl"
           }
          ],
          "scatterternary": [
           {
            "marker": {
             "colorbar": {
              "outlinewidth": 0,
              "ticks": ""
             }
            },
            "type": "scatterternary"
           }
          ],
          "surface": [
           {
            "colorbar": {
             "outlinewidth": 0,
             "ticks": ""
            },
            "colorscale": [
             [
              0,
              "#0d0887"
             ],
             [
              0.1111111111111111,
              "#46039f"
             ],
             [
              0.2222222222222222,
              "#7201a8"
             ],
             [
              0.3333333333333333,
              "#9c179e"
             ],
             [
              0.4444444444444444,
              "#bd3786"
             ],
             [
              0.5555555555555556,
              "#d8576b"
             ],
             [
              0.6666666666666666,
              "#ed7953"
             ],
             [
              0.7777777777777778,
              "#fb9f3a"
             ],
             [
              0.8888888888888888,
              "#fdca26"
             ],
             [
              1,
              "#f0f921"
             ]
            ],
            "type": "surface"
           }
          ],
          "table": [
           {
            "cells": {
             "fill": {
              "color": "#EBF0F8"
             },
             "line": {
              "color": "white"
             }
            },
            "header": {
             "fill": {
              "color": "#C8D4E3"
             },
             "line": {
              "color": "white"
             }
            },
            "type": "table"
           }
          ]
         },
         "layout": {
          "annotationdefaults": {
           "arrowcolor": "#2a3f5f",
           "arrowhead": 0,
           "arrowwidth": 1
          },
          "autotypenumbers": "strict",
          "coloraxis": {
           "colorbar": {
            "outlinewidth": 0,
            "ticks": ""
           }
          },
          "colorscale": {
           "diverging": [
            [
             0,
             "#8e0152"
            ],
            [
             0.1,
             "#c51b7d"
            ],
            [
             0.2,
             "#de77ae"
            ],
            [
             0.3,
             "#f1b6da"
            ],
            [
             0.4,
             "#fde0ef"
            ],
            [
             0.5,
             "#f7f7f7"
            ],
            [
             0.6,
             "#e6f5d0"
            ],
            [
             0.7,
             "#b8e186"
            ],
            [
             0.8,
             "#7fbc41"
            ],
            [
             0.9,
             "#4d9221"
            ],
            [
             1,
             "#276419"
            ]
           ],
           "sequential": [
            [
             0,
             "#0d0887"
            ],
            [
             0.1111111111111111,
             "#46039f"
            ],
            [
             0.2222222222222222,
             "#7201a8"
            ],
            [
             0.3333333333333333,
             "#9c179e"
            ],
            [
             0.4444444444444444,
             "#bd3786"
            ],
            [
             0.5555555555555556,
             "#d8576b"
            ],
            [
             0.6666666666666666,
             "#ed7953"
            ],
            [
             0.7777777777777778,
             "#fb9f3a"
            ],
            [
             0.8888888888888888,
             "#fdca26"
            ],
            [
             1,
             "#f0f921"
            ]
           ],
           "sequentialminus": [
            [
             0,
             "#0d0887"
            ],
            [
             0.1111111111111111,
             "#46039f"
            ],
            [
             0.2222222222222222,
             "#7201a8"
            ],
            [
             0.3333333333333333,
             "#9c179e"
            ],
            [
             0.4444444444444444,
             "#bd3786"
            ],
            [
             0.5555555555555556,
             "#d8576b"
            ],
            [
             0.6666666666666666,
             "#ed7953"
            ],
            [
             0.7777777777777778,
             "#fb9f3a"
            ],
            [
             0.8888888888888888,
             "#fdca26"
            ],
            [
             1,
             "#f0f921"
            ]
           ]
          },
          "colorway": [
           "#636efa",
           "#EF553B",
           "#00cc96",
           "#ab63fa",
           "#FFA15A",
           "#19d3f3",
           "#FF6692",
           "#B6E880",
           "#FF97FF",
           "#FECB52"
          ],
          "font": {
           "color": "#2a3f5f"
          },
          "geo": {
           "bgcolor": "white",
           "lakecolor": "white",
           "landcolor": "#E5ECF6",
           "showlakes": true,
           "showland": true,
           "subunitcolor": "white"
          },
          "hoverlabel": {
           "align": "left"
          },
          "hovermode": "closest",
          "mapbox": {
           "style": "light"
          },
          "paper_bgcolor": "white",
          "plot_bgcolor": "#E5ECF6",
          "polar": {
           "angularaxis": {
            "gridcolor": "white",
            "linecolor": "white",
            "ticks": ""
           },
           "bgcolor": "#E5ECF6",
           "radialaxis": {
            "gridcolor": "white",
            "linecolor": "white",
            "ticks": ""
           }
          },
          "scene": {
           "xaxis": {
            "backgroundcolor": "#E5ECF6",
            "gridcolor": "white",
            "gridwidth": 2,
            "linecolor": "white",
            "showbackground": true,
            "ticks": "",
            "zerolinecolor": "white"
           },
           "yaxis": {
            "backgroundcolor": "#E5ECF6",
            "gridcolor": "white",
            "gridwidth": 2,
            "linecolor": "white",
            "showbackground": true,
            "ticks": "",
            "zerolinecolor": "white"
           },
           "zaxis": {
            "backgroundcolor": "#E5ECF6",
            "gridcolor": "white",
            "gridwidth": 2,
            "linecolor": "white",
            "showbackground": true,
            "ticks": "",
            "zerolinecolor": "white"
           }
          },
          "shapedefaults": {
           "line": {
            "color": "#2a3f5f"
           }
          },
          "ternary": {
           "aaxis": {
            "gridcolor": "white",
            "linecolor": "white",
            "ticks": ""
           },
           "baxis": {
            "gridcolor": "white",
            "linecolor": "white",
            "ticks": ""
           },
           "bgcolor": "#E5ECF6",
           "caxis": {
            "gridcolor": "white",
            "linecolor": "white",
            "ticks": ""
           }
          },
          "title": {
           "x": 0.05
          },
          "xaxis": {
           "automargin": true,
           "gridcolor": "white",
           "linecolor": "white",
           "ticks": "",
           "title": {
            "standoff": 15
           },
           "zerolinecolor": "white",
           "zerolinewidth": 2
          },
          "yaxis": {
           "automargin": true,
           "gridcolor": "white",
           "linecolor": "white",
           "ticks": "",
           "title": {
            "standoff": 15
           },
           "zerolinecolor": "white",
           "zerolinewidth": 2
          }
         }
        }
       }
      }
     },
     "metadata": {},
     "output_type": "display_data"
    }
   ],
   "source": [
    "import plotly.graph_objects as go\n",
    "\n",
    "# Define traces\n",
    "traces = [\n",
    "    go.Scatter3d(\n",
    "        x=[0.0,-0.8,None,0.0,-0.8,None,0.0,0.8,None,0.0,0.8,None,-0.8,-0.8,None,-0.8,0.8,None,0.8,-0.8,None,0.8,0.8,None],\n",
    "        y=[0.0,-0.6,None,0.0,0.6,None,0.0,-0.6,None,0.0,0.6,None,-0.6,0.6,None,0.6,0.6,None,-0.6,-0.6,None,0.6,-0.6,None],\n",
    "        z=[0.0,1.0,None,0.0,1.0,None,0.0,1.0,None,0.0,1.0,None,1.0,1.0,None,1.0,1.0,None,1.0,1.0,None,1.0,1.0,None],\n",
    "        mode='lines',\n",
    "        name='camera 1'\n",
    "    ),\n",
    "    go.Scatter3d(\n",
    "        x=[5.0,4.2,None,5.0,4.2,None,5.0,5.8,None,5.0,5.8,None,4.2,4.2,None,4.2,5.8,None,5.8,4.2,None,5.8,5.8,None],\n",
    "        y=[0.0,-0.6,None,0.0,0.6,None,0.0,-0.6,None,0.0,0.6,None,-0.6,0.6,None,0.6,0.6,None,-0.6,-0.6,None,0.6,-0.6,None],\n",
    "        z=[-5.0,-4.0,None,-5.0,-4.0,None,-5.0,-4.0,None,-5.0,-4.0,None,-4.0,-4.0,None,-4.0,-4.0,None,-4.0,-4.0,None,-4.0,-4.0,None],\n",
    "        mode='lines',\n",
    "        name='camera 2'\n",
    "    ),\n",
    "    go.Scatter3d(\n",
    "        x=[0.1], y=[0.1], z=[1.5],\n",
    "        mode='markers',\n",
    "        marker=dict(size=2),\n",
    "        name='GT point'\n",
    "    ),\n",
    "    go.Scatter3d(\n",
    "        x=[0.102], y=[0.168], z=[1.453],\n",
    "        mode='markers',\n",
    "        marker=dict(size=2),\n",
    "        name='DLT estimate'\n",
    "    ),\n",
    "    go.Scatter3d(\n",
    "        x=[0.0, 0.149], y=[0.0, 0.152], z=[0.0, 2.0],\n",
    "        mode='lines+markers',\n",
    "        marker=dict(size=[0,6,0], symbol='diamond'),\n",
    "        name='ray 1'\n",
    "    ),\n",
    "    go.Scatter3d(\n",
    "        x=[5.0, -0.319], y=[0.0, 0.245], z=[-5.0, 2.0],\n",
    "        mode='lines+markers',\n",
    "        marker=dict(size=[0,6,0], symbol='diamond'),\n",
    "        name='ray 2'\n",
    "    )\n",
    "]\n",
    "\n",
    "# Define layout\n",
    "layout = go.Layout(\n",
    "    scene=dict(aspectmode='data'),\n",
    "    margin=dict(l=0, r=0, t=0, b=0),\n",
    "    legend=dict(y=0.96)\n",
    ")\n",
    "\n",
    "# Create figure\n",
    "fig = go.Figure(data=traces, layout=layout)\n",
    "fig.show()"
   ]
  },
  {
   "cell_type": "markdown",
   "metadata": {},
   "source": [
    "## The problem with DLT\n",
    "\n",
    "DLT provides an exact solution to the triangulation problem in the absence of measurement noise. In practice however, the **2D measurements we use are almost always noisy**, so their back-projected rays may no longer intersect in 3D. The DLT, being an unweighted least squares solution, places equal weight on the residual from each measurement (each row of the linear system in {eq}`least-squares`). The trouble is that this does not minimize the proper cost function. The covariance of the estimate with respect to a measurement depends on factors like the *range* of the estimate from the camera (i.e, measurements from closer cameras should be trusted more). Ideally, we should minimize the *covariance-weighted* reprojection errors on the image plane instead of the residuals of the arbitrarily scaled rows of {eq}`least-squares`. \n",
    "\n",
    "# Optimal triangulation\n",
    "\n",
    "Optimal triangulation computes the maximum likelihood estimate of the weighted residual norm. Consider the common case of noisy measurements {math}`\\mathbf{\\tilde{u}_i} = \\mathbf{u_i} + \\mathbf{n_i}`, where $\\mathbf{n_i}$ is Gaussian noise in 2D pixel space with covariance $\\mathbf{\\Sigma_{u_i}}$. The noise-free measurement $\\mathbf{u_i}$ is a function of the unknown point $\\mathbf{^wr}$: \n",
    "\n",
    "$$\n",
    "\\begin{equation}\n",
    "\\mathbf{u_i} = \\mathbf{\\mathit{h_i}(^wr)} = \\mathbf{K_i} \\mathbf{R^i_w} (\\mathbf{^wr} - \\mathbf{^wp_i})\n",
    "\\end{equation}\n",
    "$$\n",
    " \n",
    "<!-- where $\\mathbf{S}$ is a matrix of the form $[\\mathbf{I}_{2 \\times 2} \\ \\mathbf{0}_{2 \\times 1}]$.  -->\n",
    "\n",
    "The optimal estimate in an MLE framework is the solution that minimizes the weighted residual norm:\n",
    "\n",
    "$$\n",
    "J(\\mathbf{^wr}) = \\sum_{i=1}^{n} \\mathbf{n_i^T} \\mathbf{\\Sigma_{u_i}^{-1}} \\mathbf{n_i} =  \\sum_{i=1}^{n} \\mathbf{(\\tilde{u}_i - \\mathbf{\\mathit{h_i}(^wr)})^T} \\mathbf{\\Sigma_{u_i}^{-1}} \\mathbf{(\\tilde{u}_i - \\mathbf{\\mathit{h_i}(^wr)})}\n",
    "$$ (MLE-estimate)\n",
    "\n",
    "For the case of triangulating a point from 2 camera measurements, {eq}`MLE-estimate` can be solved analytically as shown by [Hartley and Strum](https://doi.org/10.1006/cviu.1997.0547) and the [LOST paper](https://doi.org/10.2514/1.G006989) ([Arxiv](https://arxiv.org/pdf/2205.12197.pdf)). This usually involves solving a polynomial of degree 6. \n",
    "\n",
    "We often encounter triangulation problems with more than two measurements where the degree 6 polynomial solution of Hartley & Sturm no longer applies. In such cases, it is common to minimize {eq}`MLE-estimate` using an iterative nonlinear solver starting with the DLT estimate as the initialization. In GTSAM, this can be achieved using a factor graph by setting `optimize=True` in the call to `triangulatePoint3`. This scales to the general case with more than 2 camera measurements, but like all iterative methods, significantly increases the estimation latency. \n",
    "\n",
    "```python\n",
    "# Optimization needs the measurement noise model.\n",
    "noisemodel = gtsam.noiseModel.Isotropic.Sigma(2, 1e-3)\n",
    "\n",
    "optimal_estimate = gtsam.triangulatePoint3(cameras, measurements, rank_tol=1e-9, optimize=True, model=noisemodel)\n",
    "print(\"Optimal estimation error: {:.04f}\".format(np.linalg.norm(optimal_estimate - landmark)))\n",
    "```\n",
    "\n",
    "```sh\n",
    "Optimal estimation error: 0.0549\n",
    "```\n",
    "\n",
    "# The Linear Optimal Sine Triangulation (LOST) approach\n",
    "\n",
    "In their paper on [\"Absolute Triangulation Algorithms for Space Exploration\"](https://doi.org/10.2514/1.G006989) ([Arxiv](https://arxiv.org/pdf/2205.12197.pdf)), Henry and Christian propose the linear optimal sine triangulation (LOST) method that non-iteratively solves the statistically optimal triangulation problem as a linear system. When only two measurements are available, LOST provides the same answer as Hartley & Sturm's polynomial solution. However, unlike the polynomial solution, LOST scales linearly to an arbitrary number of measurements and remains non-iterative. LOST is a weighted least squares approach that both \n",
    "\n",
    "1. provides the same solution as and\n",
    "\n",
    "2. is significantly faster than the iterative nonlinear optimization approach commonly used for optimal triangulation with many (more than two) cameras. \n",
    "\n",
    "Their approach minimizes the weighted residual norm in the image-plane coordinates (it can easily be rewritten in terms of pixel coordinates). For a noisy measurement on the image plane $\\mathbf{\\tilde{x}_i} = \\mathbf{x_i} + \\mathbf{w_i}$, {eq}`dlt-constraint` will have a residual $\\mathbf{\\epsilon_i}$ given by:\n",
    "\n",
    "$$\n",
    "\\begin{equation}\n",
    " {\\mathbf{\\tilde{x}_i}} \\times \\mathbf{R^i_w} (\\mathbf{^wr} - \\mathbf{^wp_i})  = \\mathbf{\\epsilon_i}\n",
    "\\end{equation}\n",
    "$$\n",
    "\n",
    "Since $[\\mathbf{R^i_w} (\\mathbf{^wr} - \\mathbf{^wp_i}) \\times]$ is a skew symmetric matrix, and $\\mathbf{\\tilde{x}_i} = \\mathbf{K_i}^{-1} \\mathbf{\\tilde{u}_i}$\n",
    "\n",
    "$$\n",
    "\\begin{equation}\n",
    "     \\mathbf{\\epsilon_i} =  [\\mathbf{R^i_w} (\\mathbf{^wp_i} - \\mathbf{^wr}) \\times] \\  \\mathbf{K_i^{-1}} \\mathbf{\\tilde{u}_i}\n",
    "\\end{equation}\n",
    "$$\n",
    "\n",
    "The weighted residual norm to be minimized is:\n",
    "{math}`J(\\mathbf{^wr}) = \\sum_{i=1}^{n} \\mathbf{\\epsilon_i^T} \\mathbf{\\Sigma_{\\epsilon_i}^{-1}} \\mathbf{\\epsilon_i}`\n",
    "\n",
    "We skip through the bulk of the math in what follows, so please refer to the [LOST paper](https://doi.org/10.2514/1.G006989) ([Arxiv](https://arxiv.org/pdf/2205.12197.pdf)) by Henry and Christian for a neat derivation. The error covariance $\\mathbf{\\Sigma_{\\epsilon_i}}$ can be expressed in terms of the 2D measurement covariance $\\mathbf{\\Sigma_{x_i}}$ as:\n",
    "\n",
    "$$\n",
    "\\begin{equation}\n",
    " \\mathbf{\\Sigma_{\\epsilon_i}} = -\\frac{\\rho_i^{2}}{||\\mathbf{K_i^{-1}} \\mathbf{\\tilde{u}_i}||^2} [\\mathbf{K_i^{-1}} \\mathbf{\\tilde{u}_i} \\times ] \\mathbf{\\Sigma_{x_i}} [\\mathbf{K_i^{-1}} \\mathbf{\\tilde{u}_i} \\times ]\n",
    "\\end{equation}\n",
    "$$\n",
    "\n",
    "where $\\rho_i$ is the range of the range of the 3D point from the center of camera $i$. The difficulty with this expression for $\\mathbf{\\Sigma_{\\epsilon_i}}$ is that it is not full rank (not invertible) and the ranges $\\rho_i$ are not known a priori (since the 3D point's location is not yet known). The LOST paper shows how both of these difficulties can be avoided and provides a general non-iterative solution. An especially nice result occurs when the image plane measurement errors are isotropic. In this case, minimizing the cost function $J(\\mathbf{^wr})$ leads to a simple least squares expression:\n",
    "\n",
    "$$\n",
    "\\begin{equation}\n",
    "\\left[\\begin{array}{c}\n",
    "q_1 \\left[\\mathbf{K_1^{-1}} \\mathbf{u_1} \\times\\right] \\mathbf{R^1_w} \\cr\t\\\\\n",
    "q_2 \\left[\\mathbf{K_2^{-1}} \\mathbf{u_2} \\times\\right] \\mathbf{R^2_w} \\cr\t\\\\\n",
    "... \\cr \\\\\n",
    "q_n \\left[\\mathbf{K_n^{-1}} \\mathbf{u_n} \\times\\right] \\mathbf{R^n_w} \\cr\n",
    "\\end{array}\\right] \\mathbf{^wr} = \n",
    "\\left[\\begin{array}{c}\n",
    "q_1 \\left[\\mathbf{K_1^{-1}} \\mathbf{u_1} \\times\\right] \\mathbf{R^1_w} \\mathbf{^wp_1} \\cr\t\\\\\n",
    "q_2 \\left[\\mathbf{K_2^{-1}} \\mathbf{u_2} \\times\\right] \\mathbf{R^2_w} \\mathbf{^wp_2} \\cr\t\\\\\n",
    "... \\cr \\\\\n",
    "q_n \\left[\\mathbf{K_n^{-1}} \\mathbf{u_n} \\times\\right] \\mathbf{R^n_w} \\mathbf{^wp_n} \\cr\n",
    "\\end{array}\\right]\n",
    "\\end{equation}\n",
    "$$\n",
    "\n",
    "Note that this looks very much like {eq}`least-squares`, except for the inclusion of the coefficients $q_i$ (weighted least squares, of course!). The final expression for $q_i$ is:\n",
    "\n",
    "$$\n",
    "\\begin{equation}\n",
    "    q_i = \\frac{||\\mathbf{K_i^{-1}} \\mathbf{u_i}||}{\\sigma_{x_i} \\rho_i} = \\frac{|| \\mathbf{R^w_i} \\mathbf{K_i^{-1}} \\mathbf{\\tilde{u}_i} \\times \\ \\mathbf{R^w_j} \\mathbf{K_j^{-1}} \\mathbf{\\tilde{u}_j} ||}{\\sigma_{x_i} || \\mathbf{d_{ij}} \\times \\ \\mathbf{R^w_j} \\mathbf{K_j^{-1}} \\mathbf{\\tilde{u}_j} ||}\n",
    "\\end{equation}\n",
    "$$\n",
    "\n",
    "where $\\mathbf{d_{ij}} = (\\mathbf{^wp_j} - \\mathbf{^wp_i})$ is the known baseline between cameras $i$ and $j$. Note that everything on the right-hand side of this expression for $q_i$ is known a priori, and so the optimal LOST weights $q_i$ may be found directly and without any iteration.\n",
    "\n",
    "Starting from release [4.2a8](https://github.com/borglab/gtsam/releases), gtsam includes an implementation of LOST which can be easily used as follows:\n",
    "\n",
    "```python\n",
    "lost_estimate = gtsam.triangulatePoint3(cameras, measurements, 1e-9, optimize=False, model=noisemodel, useLOST=True)\n",
    "print(\"LOST estimation error: {:.04f}\".format(np.linalg.norm(lost_estimate - landmark)))\n",
    "```\n",
    "```sh\n",
    "LOST estimation error: 0.0581\n",
    "```\n",
    "\n",
    "The estimation error obtained above is comparable to that obtained by iterative optimization. Although the LOST error in this particular instance is slightly larger than the iterative solution, sometimes the reverse is true (i.e., sometimes LOST is slightly better). Indeed, as we will see in the next section, the statistics of LOST and the iterative LS solution are identical. \n",
    "\n",
    "The visualization below adds the LOST estimate to the DLT estimate we obtained above. Note how the LOST estimate is much closer to the ground truth (especially along X and Y axes) compared to the DLT estimate."
   ]
  },
  {
   "cell_type": "code",
   "execution_count": 2,
   "metadata": {
    "tags": [
     "hide-input"
    ]
   },
   "outputs": [
    {
     "data": {
      "application/vnd.plotly.v1+json": {
       "config": {
        "plotlyServerURL": "https://plot.ly"
       },
       "data": [
        {
         "mode": "lines",
         "name": "camera 1",
         "type": "scatter3d",
         "x": [
          0,
          -0.8,
          null,
          0,
          -0.8,
          null,
          0,
          0.8,
          null,
          0,
          0.8,
          null,
          -0.8,
          -0.8,
          null,
          -0.8,
          0.8,
          null,
          0.8,
          -0.8,
          null,
          0.8,
          0.8,
          null
         ],
         "y": [
          0,
          -0.6,
          null,
          0,
          0.6,
          null,
          0,
          -0.6,
          null,
          0,
          0.6,
          null,
          -0.6,
          0.6,
          null,
          0.6,
          0.6,
          null,
          -0.6,
          -0.6,
          null,
          0.6,
          -0.6,
          null
         ],
         "z": [
          0,
          1,
          null,
          0,
          1,
          null,
          0,
          1,
          null,
          0,
          1,
          null,
          1,
          1,
          null,
          1,
          1,
          null,
          1,
          1,
          null,
          1,
          1,
          null
         ]
        },
        {
         "mode": "lines",
         "name": "camera 2",
         "type": "scatter3d",
         "x": [
          5,
          4.2,
          null,
          5,
          4.2,
          null,
          5,
          5.8,
          null,
          5,
          5.8,
          null,
          4.2,
          4.2,
          null,
          4.2,
          5.8,
          null,
          5.8,
          4.2,
          null,
          5.8,
          5.8,
          null
         ],
         "y": [
          0,
          -0.6,
          null,
          0,
          0.6,
          null,
          0,
          -0.6,
          null,
          0,
          0.6,
          null,
          -0.6,
          0.6,
          null,
          0.6,
          0.6,
          null,
          -0.6,
          -0.6,
          null,
          0.6,
          -0.6,
          null
         ],
         "z": [
          -5,
          -4,
          null,
          -5,
          -4,
          null,
          -5,
          -4,
          null,
          -5,
          -4,
          null,
          -4,
          -4,
          null,
          -4,
          -4,
          null,
          -4,
          -4,
          null,
          -4,
          -4,
          null
         ]
        },
        {
         "marker": {
          "size": 2
         },
         "mode": "markers",
         "name": "GT point",
         "type": "scatter3d",
         "x": [
          0.1
         ],
         "y": [
          0.1
         ],
         "z": [
          1.5
         ]
        },
        {
         "marker": {
          "size": 2
         },
         "mode": "markers",
         "name": "DLT estimate",
         "type": "scatter3d",
         "x": [
          0.102
         ],
         "y": [
          0.168
         ],
         "z": [
          1.453
         ]
        },
        {
         "marker": {
          "size": 2
         },
         "mode": "markers",
         "name": "LOST estimate",
         "type": "scatter3d",
         "x": [
          0.107
         ],
         "y": [
          0.116
         ],
         "z": [
          1.444
         ]
        },
        {
         "marker": {
          "size": [
           0,
           6,
           0
          ],
          "symbol": "diamond"
         },
         "mode": "lines+markers",
         "name": "ray 1",
         "type": "scatter3d",
         "x": [
          0,
          0.149
         ],
         "y": [
          0,
          0.152
         ],
         "z": [
          0,
          2
         ]
        },
        {
         "marker": {
          "size": [
           0,
           6,
           0
          ],
          "symbol": "diamond"
         },
         "mode": "lines+markers",
         "name": "ray 2",
         "type": "scatter3d",
         "x": [
          5,
          -0.319
         ],
         "y": [
          0,
          0.245
         ],
         "z": [
          -5,
          2
         ]
        }
       ],
       "layout": {
        "legend": {
         "y": 0.96
        },
        "margin": {
         "b": 0,
         "l": 0,
         "r": 0,
         "t": 0
        },
        "scene": {
         "aspectmode": "data"
        },
        "template": {
         "data": {
          "bar": [
           {
            "error_x": {
             "color": "#2a3f5f"
            },
            "error_y": {
             "color": "#2a3f5f"
            },
            "marker": {
             "line": {
              "color": "#E5ECF6",
              "width": 0.5
             },
             "pattern": {
              "fillmode": "overlay",
              "size": 10,
              "solidity": 0.2
             }
            },
            "type": "bar"
           }
          ],
          "barpolar": [
           {
            "marker": {
             "line": {
              "color": "#E5ECF6",
              "width": 0.5
             },
             "pattern": {
              "fillmode": "overlay",
              "size": 10,
              "solidity": 0.2
             }
            },
            "type": "barpolar"
           }
          ],
          "carpet": [
           {
            "aaxis": {
             "endlinecolor": "#2a3f5f",
             "gridcolor": "white",
             "linecolor": "white",
             "minorgridcolor": "white",
             "startlinecolor": "#2a3f5f"
            },
            "baxis": {
             "endlinecolor": "#2a3f5f",
             "gridcolor": "white",
             "linecolor": "white",
             "minorgridcolor": "white",
             "startlinecolor": "#2a3f5f"
            },
            "type": "carpet"
           }
          ],
          "choropleth": [
           {
            "colorbar": {
             "outlinewidth": 0,
             "ticks": ""
            },
            "type": "choropleth"
           }
          ],
          "contour": [
           {
            "colorbar": {
             "outlinewidth": 0,
             "ticks": ""
            },
            "colorscale": [
             [
              0,
              "#0d0887"
             ],
             [
              0.1111111111111111,
              "#46039f"
             ],
             [
              0.2222222222222222,
              "#7201a8"
             ],
             [
              0.3333333333333333,
              "#9c179e"
             ],
             [
              0.4444444444444444,
              "#bd3786"
             ],
             [
              0.5555555555555556,
              "#d8576b"
             ],
             [
              0.6666666666666666,
              "#ed7953"
             ],
             [
              0.7777777777777778,
              "#fb9f3a"
             ],
             [
              0.8888888888888888,
              "#fdca26"
             ],
             [
              1,
              "#f0f921"
             ]
            ],
            "type": "contour"
           }
          ],
          "contourcarpet": [
           {
            "colorbar": {
             "outlinewidth": 0,
             "ticks": ""
            },
            "type": "contourcarpet"
           }
          ],
          "heatmap": [
           {
            "colorbar": {
             "outlinewidth": 0,
             "ticks": ""
            },
            "colorscale": [
             [
              0,
              "#0d0887"
             ],
             [
              0.1111111111111111,
              "#46039f"
             ],
             [
              0.2222222222222222,
              "#7201a8"
             ],
             [
              0.3333333333333333,
              "#9c179e"
             ],
             [
              0.4444444444444444,
              "#bd3786"
             ],
             [
              0.5555555555555556,
              "#d8576b"
             ],
             [
              0.6666666666666666,
              "#ed7953"
             ],
             [
              0.7777777777777778,
              "#fb9f3a"
             ],
             [
              0.8888888888888888,
              "#fdca26"
             ],
             [
              1,
              "#f0f921"
             ]
            ],
            "type": "heatmap"
           }
          ],
          "histogram": [
           {
            "marker": {
             "pattern": {
              "fillmode": "overlay",
              "size": 10,
              "solidity": 0.2
             }
            },
            "type": "histogram"
           }
          ],
          "histogram2d": [
           {
            "colorbar": {
             "outlinewidth": 0,
             "ticks": ""
            },
            "colorscale": [
             [
              0,
              "#0d0887"
             ],
             [
              0.1111111111111111,
              "#46039f"
             ],
             [
              0.2222222222222222,
              "#7201a8"
             ],
             [
              0.3333333333333333,
              "#9c179e"
             ],
             [
              0.4444444444444444,
              "#bd3786"
             ],
             [
              0.5555555555555556,
              "#d8576b"
             ],
             [
              0.6666666666666666,
              "#ed7953"
             ],
             [
              0.7777777777777778,
              "#fb9f3a"
             ],
             [
              0.8888888888888888,
              "#fdca26"
             ],
             [
              1,
              "#f0f921"
             ]
            ],
            "type": "histogram2d"
           }
          ],
          "histogram2dcontour": [
           {
            "colorbar": {
             "outlinewidth": 0,
             "ticks": ""
            },
            "colorscale": [
             [
              0,
              "#0d0887"
             ],
             [
              0.1111111111111111,
              "#46039f"
             ],
             [
              0.2222222222222222,
              "#7201a8"
             ],
             [
              0.3333333333333333,
              "#9c179e"
             ],
             [
              0.4444444444444444,
              "#bd3786"
             ],
             [
              0.5555555555555556,
              "#d8576b"
             ],
             [
              0.6666666666666666,
              "#ed7953"
             ],
             [
              0.7777777777777778,
              "#fb9f3a"
             ],
             [
              0.8888888888888888,
              "#fdca26"
             ],
             [
              1,
              "#f0f921"
             ]
            ],
            "type": "histogram2dcontour"
           }
          ],
          "mesh3d": [
           {
            "colorbar": {
             "outlinewidth": 0,
             "ticks": ""
            },
            "type": "mesh3d"
           }
          ],
          "parcoords": [
           {
            "line": {
             "colorbar": {
              "outlinewidth": 0,
              "ticks": ""
             }
            },
            "type": "parcoords"
           }
          ],
          "pie": [
           {
            "automargin": true,
            "type": "pie"
           }
          ],
          "scatter": [
           {
            "fillpattern": {
             "fillmode": "overlay",
             "size": 10,
             "solidity": 0.2
            },
            "type": "scatter"
           }
          ],
          "scatter3d": [
           {
            "line": {
             "colorbar": {
              "outlinewidth": 0,
              "ticks": ""
             }
            },
            "marker": {
             "colorbar": {
              "outlinewidth": 0,
              "ticks": ""
             }
            },
            "type": "scatter3d"
           }
          ],
          "scattercarpet": [
           {
            "marker": {
             "colorbar": {
              "outlinewidth": 0,
              "ticks": ""
             }
            },
            "type": "scattercarpet"
           }
          ],
          "scattergeo": [
           {
            "marker": {
             "colorbar": {
              "outlinewidth": 0,
              "ticks": ""
             }
            },
            "type": "scattergeo"
           }
          ],
          "scattergl": [
           {
            "marker": {
             "colorbar": {
              "outlinewidth": 0,
              "ticks": ""
             }
            },
            "type": "scattergl"
           }
          ],
          "scattermap": [
           {
            "marker": {
             "colorbar": {
              "outlinewidth": 0,
              "ticks": ""
             }
            },
            "type": "scattermap"
           }
          ],
          "scattermapbox": [
           {
            "marker": {
             "colorbar": {
              "outlinewidth": 0,
              "ticks": ""
             }
            },
            "type": "scattermapbox"
           }
          ],
          "scatterpolar": [
           {
            "marker": {
             "colorbar": {
              "outlinewidth": 0,
              "ticks": ""
             }
            },
            "type": "scatterpolar"
           }
          ],
          "scatterpolargl": [
           {
            "marker": {
             "colorbar": {
              "outlinewidth": 0,
              "ticks": ""
             }
            },
            "type": "scatterpolargl"
           }
          ],
          "scatterternary": [
           {
            "marker": {
             "colorbar": {
              "outlinewidth": 0,
              "ticks": ""
             }
            },
            "type": "scatterternary"
           }
          ],
          "surface": [
           {
            "colorbar": {
             "outlinewidth": 0,
             "ticks": ""
            },
            "colorscale": [
             [
              0,
              "#0d0887"
             ],
             [
              0.1111111111111111,
              "#46039f"
             ],
             [
              0.2222222222222222,
              "#7201a8"
             ],
             [
              0.3333333333333333,
              "#9c179e"
             ],
             [
              0.4444444444444444,
              "#bd3786"
             ],
             [
              0.5555555555555556,
              "#d8576b"
             ],
             [
              0.6666666666666666,
              "#ed7953"
             ],
             [
              0.7777777777777778,
              "#fb9f3a"
             ],
             [
              0.8888888888888888,
              "#fdca26"
             ],
             [
              1,
              "#f0f921"
             ]
            ],
            "type": "surface"
           }
          ],
          "table": [
           {
            "cells": {
             "fill": {
              "color": "#EBF0F8"
             },
             "line": {
              "color": "white"
             }
            },
            "header": {
             "fill": {
              "color": "#C8D4E3"
             },
             "line": {
              "color": "white"
             }
            },
            "type": "table"
           }
          ]
         },
         "layout": {
          "annotationdefaults": {
           "arrowcolor": "#2a3f5f",
           "arrowhead": 0,
           "arrowwidth": 1
          },
          "autotypenumbers": "strict",
          "coloraxis": {
           "colorbar": {
            "outlinewidth": 0,
            "ticks": ""
           }
          },
          "colorscale": {
           "diverging": [
            [
             0,
             "#8e0152"
            ],
            [
             0.1,
             "#c51b7d"
            ],
            [
             0.2,
             "#de77ae"
            ],
            [
             0.3,
             "#f1b6da"
            ],
            [
             0.4,
             "#fde0ef"
            ],
            [
             0.5,
             "#f7f7f7"
            ],
            [
             0.6,
             "#e6f5d0"
            ],
            [
             0.7,
             "#b8e186"
            ],
            [
             0.8,
             "#7fbc41"
            ],
            [
             0.9,
             "#4d9221"
            ],
            [
             1,
             "#276419"
            ]
           ],
           "sequential": [
            [
             0,
             "#0d0887"
            ],
            [
             0.1111111111111111,
             "#46039f"
            ],
            [
             0.2222222222222222,
             "#7201a8"
            ],
            [
             0.3333333333333333,
             "#9c179e"
            ],
            [
             0.4444444444444444,
             "#bd3786"
            ],
            [
             0.5555555555555556,
             "#d8576b"
            ],
            [
             0.6666666666666666,
             "#ed7953"
            ],
            [
             0.7777777777777778,
             "#fb9f3a"
            ],
            [
             0.8888888888888888,
             "#fdca26"
            ],
            [
             1,
             "#f0f921"
            ]
           ],
           "sequentialminus": [
            [
             0,
             "#0d0887"
            ],
            [
             0.1111111111111111,
             "#46039f"
            ],
            [
             0.2222222222222222,
             "#7201a8"
            ],
            [
             0.3333333333333333,
             "#9c179e"
            ],
            [
             0.4444444444444444,
             "#bd3786"
            ],
            [
             0.5555555555555556,
             "#d8576b"
            ],
            [
             0.6666666666666666,
             "#ed7953"
            ],
            [
             0.7777777777777778,
             "#fb9f3a"
            ],
            [
             0.8888888888888888,
             "#fdca26"
            ],
            [
             1,
             "#f0f921"
            ]
           ]
          },
          "colorway": [
           "#636efa",
           "#EF553B",
           "#00cc96",
           "#ab63fa",
           "#FFA15A",
           "#19d3f3",
           "#FF6692",
           "#B6E880",
           "#FF97FF",
           "#FECB52"
          ],
          "font": {
           "color": "#2a3f5f"
          },
          "geo": {
           "bgcolor": "white",
           "lakecolor": "white",
           "landcolor": "#E5ECF6",
           "showlakes": true,
           "showland": true,
           "subunitcolor": "white"
          },
          "hoverlabel": {
           "align": "left"
          },
          "hovermode": "closest",
          "mapbox": {
           "style": "light"
          },
          "paper_bgcolor": "white",
          "plot_bgcolor": "#E5ECF6",
          "polar": {
           "angularaxis": {
            "gridcolor": "white",
            "linecolor": "white",
            "ticks": ""
           },
           "bgcolor": "#E5ECF6",
           "radialaxis": {
            "gridcolor": "white",
            "linecolor": "white",
            "ticks": ""
           }
          },
          "scene": {
           "xaxis": {
            "backgroundcolor": "#E5ECF6",
            "gridcolor": "white",
            "gridwidth": 2,
            "linecolor": "white",
            "showbackground": true,
            "ticks": "",
            "zerolinecolor": "white"
           },
           "yaxis": {
            "backgroundcolor": "#E5ECF6",
            "gridcolor": "white",
            "gridwidth": 2,
            "linecolor": "white",
            "showbackground": true,
            "ticks": "",
            "zerolinecolor": "white"
           },
           "zaxis": {
            "backgroundcolor": "#E5ECF6",
            "gridcolor": "white",
            "gridwidth": 2,
            "linecolor": "white",
            "showbackground": true,
            "ticks": "",
            "zerolinecolor": "white"
           }
          },
          "shapedefaults": {
           "line": {
            "color": "#2a3f5f"
           }
          },
          "ternary": {
           "aaxis": {
            "gridcolor": "white",
            "linecolor": "white",
            "ticks": ""
           },
           "baxis": {
            "gridcolor": "white",
            "linecolor": "white",
            "ticks": ""
           },
           "bgcolor": "#E5ECF6",
           "caxis": {
            "gridcolor": "white",
            "linecolor": "white",
            "ticks": ""
           }
          },
          "title": {
           "x": 0.05
          },
          "xaxis": {
           "automargin": true,
           "gridcolor": "white",
           "linecolor": "white",
           "ticks": "",
           "title": {
            "standoff": 15
           },
           "zerolinecolor": "white",
           "zerolinewidth": 2
          },
          "yaxis": {
           "automargin": true,
           "gridcolor": "white",
           "linecolor": "white",
           "ticks": "",
           "title": {
            "standoff": 15
           },
           "zerolinecolor": "white",
           "zerolinewidth": 2
          }
         }
        }
       }
      }
     },
     "metadata": {},
     "output_type": "display_data"
    }
   ],
   "source": [
    "import plotly.graph_objects as go\n",
    "\n",
    "# Define traces\n",
    "traces = [\n",
    "    go.Scatter3d(\n",
    "        x=[0.0,-0.8,None,0.0,-0.8,None,0.0,0.8,None,0.0,0.8,None,-0.8,-0.8,None,-0.8,0.8,None,0.8,-0.8,None,0.8,0.8,None],\n",
    "        y=[0.0,-0.6,None,0.0,0.6,None,0.0,-0.6,None,0.0,0.6,None,-0.6,0.6,None,0.6,0.6,None,-0.6,-0.6,None,0.6,-0.6,None],\n",
    "        z=[0.0,1.0,None,0.0,1.0,None,0.0,1.0,None,0.0,1.0,None,1.0,1.0,None,1.0,1.0,None,1.0,1.0,None,1.0,1.0,None],\n",
    "        mode='lines',\n",
    "        name='camera 1'\n",
    "    ),\n",
    "    go.Scatter3d(\n",
    "        x=[5.0,4.2,None,5.0,4.2,None,5.0,5.8,None,5.0,5.8,None,4.2,4.2,None,4.2,5.8,None,5.8,4.2,None,5.8,5.8,None],\n",
    "        y=[0.0,-0.6,None,0.0,0.6,None,0.0,-0.6,None,0.0,0.6,None,-0.6,0.6,None,0.6,0.6,None,-0.6,-0.6,None,0.6,-0.6,None],\n",
    "        z=[-5.0,-4.0,None,-5.0,-4.0,None,-5.0,-4.0,None,-5.0,-4.0,None,-4.0,-4.0,None,-4.0,-4.0,None,-4.0,-4.0,None,-4.0,-4.0,None],\n",
    "        mode='lines',\n",
    "        name='camera 2'\n",
    "    ),\n",
    "    go.Scatter3d(\n",
    "        x=[0.1], y=[0.1], z=[1.5],\n",
    "        mode='markers',\n",
    "        marker=dict(size=2),\n",
    "        name='GT point'\n",
    "    ),\n",
    "    go.Scatter3d(\n",
    "        x=[0.102], y=[0.168], z=[1.453],\n",
    "        mode='markers',\n",
    "        marker=dict(size=2),\n",
    "        name='DLT estimate'\n",
    "    ),\n",
    "    go.Scatter3d(\n",
    "        x=[0.107], y=[0.116], z=[1.444],\n",
    "        mode='markers',\n",
    "        marker=dict(size=2),\n",
    "        name='LOST estimate'\n",
    "    ),\n",
    "    go.Scatter3d(\n",
    "        x=[0.0, 0.149], y=[0.0, 0.152], z=[0.0, 2.0],\n",
    "        mode='lines+markers',\n",
    "        marker=dict(size=[0,6,0], symbol='diamond'),\n",
    "        name='ray 1'\n",
    "    ),\n",
    "    go.Scatter3d(\n",
    "        x=[5.0, -0.319], y=[0.0, 0.245], z=[-5.0, 2.0],\n",
    "        mode='lines+markers',\n",
    "        marker=dict(size=[0,6,0], symbol='diamond'),\n",
    "        name='ray 2'\n",
    "    )\n",
    "]\n",
    "\n",
    "# Define layout\n",
    "layout = go.Layout(\n",
    "    scene=dict(aspectmode='data'),\n",
    "    margin=dict(l=0, r=0, t=0, b=0),\n",
    "    legend=dict(y=0.96)\n",
    ")\n",
    "\n",
    "# Create figure\n",
    "fig = go.Figure(data=traces, layout=layout)\n",
    "fig.show()"
   ]
  },
  {
   "cell_type": "markdown",
   "metadata": {},
   "source": [
    "# How does LOST compare to DLT and iterative optimization?\n",
    "\n",
    "When triangulating a point several times starting from different noisy measurements, it was found that the standard deviation of the LOST error is comparable to that of iterative optimization, and much lesser than DLT. This improvement reduces with increasing number of camera measurements. The results from 100 trials for each camera configuration are shown in {ref}`triang-std-dev`. \n",
    "\n",
    "```{figure} _static/lost_triangulation/triang_std_dev.png\n",
    "---\n",
    "name: triang-std-dev\n",
    "---\n",
    "Error standard deviation for different triangulation methods as a function of number of cameras, with 100 trials for each camera configuration.\n",
    "```\n",
    "\n",
    "The latency of LOST is also comparable to DLT and is much lesser than that of iterative optimization. The mean latencies for these methods as a function of the number of cameras are plotted in {ref}`triang-time-linear`. The latency of iterative optimization increases more rapidly with an increase in the number of camera measurements.\n",
    "\n",
    "```{figure} _static/lost_triangulation/triang_time_linear.png\n",
    "---\n",
    "name: triang-time-linear\n",
    "---\n",
    "Mean runtime of different triangulation methods as a function of number of cameras.\n",
    "```\n",
    "\n",
    "There are two key conclusions from these numerical experiments. First, LOST provides identical triangulation performance (i.e., identical errors) as the iterative nonlinear least squares (DLT+OPT) but at a fraction of the computational cost. There seems to be a strong case for using LOST instead of the conventional iterative methods in most situations - especially when runtime is important. Second, there are certainly some cases (such as this one) where using optimal triangulation provides substantial performance benefits when compared to the DLT.\n",
    "\n",
    "# When does using optimal triangulation make the most difference?\n",
    "\n",
    "Is optimal triangulation always better than DLT? There are two cases when it can provide much better results than DLT: \n",
    "\n",
    "- The 3D point is at significantly different ranges from each camera that observes it. Since the covariance of the estimate increases with its range from the camera, optimal triangulation weighs measurements from closer cameras more than those from farther cameras. This can also be seen in (12): the weights of each measurement are inversely proportional to the $\\rho_i$. The optimal estimates are therefore closer to the measurements from closer cameras.\n",
    "- When different measurements have different 2D noise models. This can happen if the cameras observing these measurements are of different quality, or the measurement noise is non-uniformly distributed across the image (more on the edges and lesser at the center, for instance). \n",
    "\n",
    "In other cases, the results from DLT and optimal triangulation are unlikely to be very different. For highly runtime-constrained applications that encounter the above scenarios, using LOST instead of results from DLT can reduce estimation errors."
   ]
  }
 ],
 "metadata": {
  "kernelspec": {
   "display_name": ".venv",
   "language": "python",
   "name": "python3"
  },
  "language_info": {
   "codemirror_mode": {
    "name": "ipython",
    "version": 3
   },
   "file_extension": ".py",
   "mimetype": "text/x-python",
   "name": "python",
   "nbconvert_exporter": "python",
   "pygments_lexer": "ipython3",
   "version": "3.9.6"
  }
 },
 "nbformat": 4,
 "nbformat_minor": 2
}

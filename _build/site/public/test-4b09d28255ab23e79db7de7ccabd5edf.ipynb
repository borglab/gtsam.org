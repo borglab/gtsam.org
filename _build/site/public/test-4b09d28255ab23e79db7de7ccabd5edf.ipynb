{
 "cells": [
  {
   "cell_type": "markdown",
   "metadata": {},
   "source": [
    "---\n",
    "file_format: mystnb\n",
    "kernelspec:\n",
    "  name: python3\n",
    "title:      LOST in Triangulation\n",
    "date:       2023-02-04\n",
    "authors:\n",
    "  - name:   Akshay Krishnan\n",
    "    url:    https://akshay-krishnan.github.io/\n",
    "  - name:   Sebastien Henry\n",
    "    url:    https://seal.ae.gatech.edu/node/14\n",
    "  - name:   Frank Dellaert\n",
    "    url:    https://dellaert.github.io/\n",
    "  - name:   John Christian\n",
    "    url:    https://seal.ae.gatech.edu/node/1\n",
    "\n",
    "---"
   ]
  },
  {
   "cell_type": "code",
   "execution_count": null,
   "metadata": {},
   "outputs": [
    {
     "data": {
      "text/html": [
       "<div id=\"graphDiv\" style=\"width: 100%; height: 600px;\"></div>\n",
       "\n",
       "<script src=\"https://cdn.plot.ly/plotly-2.8.3.min.js\"></script>\n",
       "<script>\n",
       "  var trace1 = {\n",
       "    x: [0.0, -0.8, null, 0.0, -0.8, null],\n",
       "    y: [0.0, -0.6, null, 0.0, 0.6, null],\n",
       "    z: [0.0, 1.0, null, 0.0, 1.0, null],\n",
       "    mode: 'lines',\n",
       "    name: 'camera 1'\n",
       "  };\n",
       "\n",
       "  var data = [trace1];\n",
       "\n",
       "  var layout = {\n",
       "    scene: {\n",
       "      xaxis: {backgroundcolor: \"#E5ECF6\", gridcolor: \"white\", gridwidth: 2, linecolor: \"white\", showbackground: true, ticks: \"\", zerolinecolor: \"white\"},\n",
       "      yaxis: {backgroundcolor: \"#E5ECF6\", gridcolor: \"white\", gridwidth: 2, linecolor: \"white\", showbackground: true, ticks: \"\", zerolinecolor: \"white\", range: [-0.5, 0.5]},\n",
       "      zaxis: {backgroundcolor: \"#E5ECF6\", gridcolor: \"white\", gridwidth: 2, linecolor: \"white\", showbackground: true, ticks: \"\", zerolinecolor: \"white\"}\n",
       "    },\n",
       "    margin: {l: 0, r: 0, t: 0, b: 0},\n",
       "    title: {x: 0.05},\n",
       "    hovermode: \"closest\"\n",
       "  };\n",
       "\n",
       "  Plotly.newPlot('graphDiv', data, layout);\n",
       "</script>\n"
      ],
      "text/plain": [
       "<IPython.core.display.HTML object>"
      ]
     },
     "metadata": {},
     "output_type": "display_data"
    }
   ],
   "source": [
    "import plotly.graph_objects as go\n",
    "\n",
    "# Define your data\n",
    "data = [\n",
    "    go.Scatter3d(\n",
    "        x=[0.0, -0.8, None, 0.0, -0.8, None, 0.0, 0.8, None, 0.0, 0.8, None, -0.8, -0.8, None, -0.8, 0.8, None, 0.8, -0.8, None, 0.8, 0.8, None],\n",
    "        y=[0.0, -0.6, None, 0.0, 0.6, None, 0.0, -0.6, None, 0.0, 0.6, None, -0.6, 0.6, None, 0.6, 0.6, None, -0.6, -0.6, None, 0.6, -0.6, None],\n",
    "        z=[0.0, 1.0, None, 0.0, 1.0, None, 0.0, 1.0, None, 0.0, 1.0, None, 1.0, 1.0, None, 1.0, 1.0, None, 1.0, 1.0, None, 1.0, 1.0, None],\n",
    "        mode=\"lines\",\n",
    "        name=\"camera 1\"\n",
    "    ),\n",
    "    go.Scatter3d(\n",
    "        x=[5.0, 4.2, None, 5.0, 4.2, None, 5.0, 5.8, None, 5.0, 5.8, None, 4.2, 4.2, None, 4.2, 5.8, None, 5.8, 4.2, None, 5.8, 5.8, None],\n",
    "        y=[0.0, -0.6, None, 0.0, 0.6, None, 0.0, -0.6, None, 0.0, 0.6, None, -0.6, 0.6, None, 0.6, 0.6, None, -0.6, -0.6, None, 0.6, -0.6, None],\n",
    "        z=[-5.0, -4.0, None, -5.0, -4.0, None, -5.0, -4.0, None, -5.0, -4.0, None, -4.0, -4.0, None, -4.0, -4.0, None, -4.0, -4.0, None, -4.0, -4.0, None],\n",
    "        mode=\"lines\",\n",
    "        name=\"camera 2\"\n",
    "    ),\n",
    "    go.Scatter3d(\n",
    "        x=[0.1],\n",
    "        y=[0.1],\n",
    "        z=[1.5],\n",
    "        mode=\"markers\",\n",
    "        name=\"GT point\",\n",
    "        marker=dict(size=2)\n",
    "    ),\n",
    "    go.Scatter3d(\n",
    "        x=[0.1023714151218403],\n",
    "        y=[0.16890260533047632],\n",
    "        z=[1.453409909325872],\n",
    "        mode=\"markers\",\n",
    "        name=\"DLT estimate\",\n",
    "        marker=dict(size=2)\n",
    "    ),\n",
    "    go.Scatter3d(\n",
    "        x=[0.10783485812100543],\n",
    "        y=[0.11608849005416458],\n",
    "        z=[1.444684619571376],\n",
    "        mode=\"markers\",\n",
    "        name=\"LOST estimate\",\n",
    "        marker=dict(size=2)\n",
    "    ),\n",
    "    go.Scatter3d(\n",
    "        x=[0.0, 0.14967333333333332, None],\n",
    "        y=[0.0, 0.15287333333333333, None],\n",
    "        z=[0.0, 2.0, None],\n",
    "        mode=\"lines+markers\",\n",
    "        name=\"ray 1\",\n",
    "        marker=dict(size=[0, 6, 0], symbol=\"diamond\")\n",
    "    ),\n",
    "    go.Scatter3d(\n",
    "        x=[5.0, -0.3196230769230777, None],\n",
    "        y=[0.0, 0.2455223076923077, None],\n",
    "        z=[-5.0, 2.0, None],\n",
    "        mode=\"lines+markers\",\n",
    "        name=\"ray 2\",\n",
    "        marker=dict(size=[0, 6, 0], symbol=\"diamond\")\n",
    "    )\n",
    "]\n",
    "\n",
    "# Define layout\n",
    "layout = go.Layout(\n",
    "    scene=dict(\n",
    "        xaxis=dict(backgroundcolor=\"#E5ECF6\", gridcolor=\"white\", gridwidth=2, linecolor=\"white\", showbackground=True, ticks=\"\", zerolinecolor=\"white\"),\n",
    "        yaxis=dict(backgroundcolor=\"#E5ECF6\", gridcolor=\"white\", gridwidth=2, linecolor=\"white\", showbackground=True, ticks=\"\", zerolinecolor=\"white\"),\n",
    "        zaxis=dict(backgroundcolor=\"#E5ECF6\", gridcolor=\"white\", gridwidth=2, linecolor=\"white\", showbackground=True, ticks=\"\", zerolinecolor=\"white\")\n",
    "    ),\n",
    "    margin=dict(l=0, r=0, t=0, b=0),\n",
    "    title=dict(x=0.05),\n",
    "    hovermode=\"closest\",\n",
    ")\n",
    "\n",
    "# Create figure\n",
    "fig = go.Figure(data=data, layout=layout)\n",
    "\n",
    "# Show figure\n",
    "fig.show()"
   ]
  },
  {
   "cell_type": "code",
   "execution_count": 1,
   "metadata": {},
   "outputs": [
    {
     "name": "stdout",
     "output_type": "stream",
     "text": [
      "hello world\n"
     ]
    }
   ],
   "source": [
    "print(\"hello world\")"
   ]
  },
  {
   "cell_type": "code",
   "execution_count": 7,
   "metadata": {},
   "outputs": [
    {
     "data": {
      "application/vnd.plotly.v1+json": {
       "config": {
        "plotlyServerURL": "https://plot.ly"
       },
       "data": [
        {
         "mode": "lines",
         "name": "camera 1",
         "type": "scatter3d",
         "x": [
          0,
          -0.8,
          null,
          0,
          -0.8,
          null,
          0,
          0.8,
          null,
          0,
          0.8,
          null,
          -0.8,
          -0.8,
          null,
          -0.8,
          0.8,
          null,
          0.8,
          -0.8,
          null,
          0.8,
          0.8,
          null
         ],
         "y": [
          0,
          -0.6,
          null,
          0,
          0.6,
          null,
          0,
          -0.6,
          null,
          0,
          0.6,
          null,
          -0.6,
          0.6,
          null,
          0.6,
          0.6,
          null,
          -0.6,
          -0.6,
          null,
          0.6,
          -0.6,
          null
         ],
         "z": [
          0,
          1,
          null,
          0,
          1,
          null,
          0,
          1,
          null,
          0,
          1,
          null,
          1,
          1,
          null,
          1,
          1,
          null,
          1,
          1,
          null,
          1,
          1,
          null
         ]
        },
        {
         "mode": "lines",
         "name": "camera 2",
         "type": "scatter3d",
         "x": [
          5,
          4.2,
          null,
          5,
          4.2,
          null,
          5,
          5.8,
          null,
          5,
          5.8,
          null,
          4.2,
          4.2,
          null,
          4.2,
          5.8,
          null,
          5.8,
          4.2,
          null,
          5.8,
          5.8,
          null
         ],
         "y": [
          0,
          -0.6,
          null,
          0,
          0.6,
          null,
          0,
          -0.6,
          null,
          0,
          0.6,
          null,
          -0.6,
          0.6,
          null,
          0.6,
          0.6,
          null,
          -0.6,
          -0.6,
          null,
          0.6,
          -0.6,
          null
         ],
         "z": [
          -5,
          -4,
          null,
          -5,
          -4,
          null,
          -5,
          -4,
          null,
          -5,
          -4,
          null,
          -4,
          -4,
          null,
          -4,
          -4,
          null,
          -4,
          -4,
          null,
          -4,
          -4,
          null
         ]
        },
        {
         "marker": {
          "size": 2
         },
         "mode": "markers",
         "name": "GT point",
         "type": "scatter3d",
         "x": [
          0.1
         ],
         "y": [
          0.1
         ],
         "z": [
          1.5
         ]
        },
        {
         "marker": {
          "size": 2
         },
         "mode": "markers",
         "name": "DLT estimate",
         "type": "scatter3d",
         "x": [
          0.1023714151218403
         ],
         "y": [
          0.16890260533047632
         ],
         "z": [
          1.453409909325872
         ]
        },
        {
         "marker": {
          "size": 2
         },
         "mode": "markers",
         "name": "LOST estimate",
         "type": "scatter3d",
         "x": [
          0.10783485812100543
         ],
         "y": [
          0.11608849005416458
         ],
         "z": [
          1.444684619571376
         ]
        },
        {
         "marker": {
          "size": [
           0,
           6,
           0
          ],
          "symbol": "diamond"
         },
         "mode": "lines+markers",
         "name": "ray 1",
         "type": "scatter3d",
         "x": [
          0,
          0.14967333333333332,
          null
         ],
         "y": [
          0,
          0.15287333333333333,
          null
         ],
         "z": [
          0,
          2,
          null
         ]
        },
        {
         "marker": {
          "size": [
           0,
           6,
           0
          ],
          "symbol": "diamond"
         },
         "mode": "lines+markers",
         "name": "ray 2",
         "type": "scatter3d",
         "x": [
          5,
          -0.3196230769230777,
          null
         ],
         "y": [
          0,
          0.2455223076923077,
          null
         ],
         "z": [
          -5,
          2,
          null
         ]
        }
       ],
       "layout": {
        "hovermode": "closest",
        "margin": {
         "b": 0,
         "l": 0,
         "r": 0,
         "t": 0
        },
        "scene": {
         "xaxis": {
          "backgroundcolor": "#E5ECF6",
          "gridcolor": "white",
          "gridwidth": 2,
          "linecolor": "white",
          "showbackground": true,
          "ticks": "",
          "zerolinecolor": "white"
         },
         "yaxis": {
          "backgroundcolor": "#E5ECF6",
          "gridcolor": "white",
          "gridwidth": 2,
          "linecolor": "white",
          "showbackground": true,
          "ticks": "",
          "zerolinecolor": "white"
         },
         "zaxis": {
          "backgroundcolor": "#E5ECF6",
          "gridcolor": "white",
          "gridwidth": 2,
          "linecolor": "white",
          "showbackground": true,
          "ticks": "",
          "zerolinecolor": "white"
         }
        },
        "template": {
         "data": {
          "bar": [
           {
            "error_x": {
             "color": "#2a3f5f"
            },
            "error_y": {
             "color": "#2a3f5f"
            },
            "marker": {
             "line": {
              "color": "#E5ECF6",
              "width": 0.5
             },
             "pattern": {
              "fillmode": "overlay",
              "size": 10,
              "solidity": 0.2
             }
            },
            "type": "bar"
           }
          ],
          "barpolar": [
           {
            "marker": {
             "line": {
              "color": "#E5ECF6",
              "width": 0.5
             },
             "pattern": {
              "fillmode": "overlay",
              "size": 10,
              "solidity": 0.2
             }
            },
            "type": "barpolar"
           }
          ],
          "carpet": [
           {
            "aaxis": {
             "endlinecolor": "#2a3f5f",
             "gridcolor": "white",
             "linecolor": "white",
             "minorgridcolor": "white",
             "startlinecolor": "#2a3f5f"
            },
            "baxis": {
             "endlinecolor": "#2a3f5f",
             "gridcolor": "white",
             "linecolor": "white",
             "minorgridcolor": "white",
             "startlinecolor": "#2a3f5f"
            },
            "type": "carpet"
           }
          ],
          "choropleth": [
           {
            "colorbar": {
             "outlinewidth": 0,
             "ticks": ""
            },
            "type": "choropleth"
           }
          ],
          "contour": [
           {
            "colorbar": {
             "outlinewidth": 0,
             "ticks": ""
            },
            "colorscale": [
             [
              0,
              "#0d0887"
             ],
             [
              0.1111111111111111,
              "#46039f"
             ],
             [
              0.2222222222222222,
              "#7201a8"
             ],
             [
              0.3333333333333333,
              "#9c179e"
             ],
             [
              0.4444444444444444,
              "#bd3786"
             ],
             [
              0.5555555555555556,
              "#d8576b"
             ],
             [
              0.6666666666666666,
              "#ed7953"
             ],
             [
              0.7777777777777778,
              "#fb9f3a"
             ],
             [
              0.8888888888888888,
              "#fdca26"
             ],
             [
              1,
              "#f0f921"
             ]
            ],
            "type": "contour"
           }
          ],
          "contourcarpet": [
           {
            "colorbar": {
             "outlinewidth": 0,
             "ticks": ""
            },
            "type": "contourcarpet"
           }
          ],
          "heatmap": [
           {
            "colorbar": {
             "outlinewidth": 0,
             "ticks": ""
            },
            "colorscale": [
             [
              0,
              "#0d0887"
             ],
             [
              0.1111111111111111,
              "#46039f"
             ],
             [
              0.2222222222222222,
              "#7201a8"
             ],
             [
              0.3333333333333333,
              "#9c179e"
             ],
             [
              0.4444444444444444,
              "#bd3786"
             ],
             [
              0.5555555555555556,
              "#d8576b"
             ],
             [
              0.6666666666666666,
              "#ed7953"
             ],
             [
              0.7777777777777778,
              "#fb9f3a"
             ],
             [
              0.8888888888888888,
              "#fdca26"
             ],
             [
              1,
              "#f0f921"
             ]
            ],
            "type": "heatmap"
           }
          ],
          "histogram": [
           {
            "marker": {
             "pattern": {
              "fillmode": "overlay",
              "size": 10,
              "solidity": 0.2
             }
            },
            "type": "histogram"
           }
          ],
          "histogram2d": [
           {
            "colorbar": {
             "outlinewidth": 0,
             "ticks": ""
            },
            "colorscale": [
             [
              0,
              "#0d0887"
             ],
             [
              0.1111111111111111,
              "#46039f"
             ],
             [
              0.2222222222222222,
              "#7201a8"
             ],
             [
              0.3333333333333333,
              "#9c179e"
             ],
             [
              0.4444444444444444,
              "#bd3786"
             ],
             [
              0.5555555555555556,
              "#d8576b"
             ],
             [
              0.6666666666666666,
              "#ed7953"
             ],
             [
              0.7777777777777778,
              "#fb9f3a"
             ],
             [
              0.8888888888888888,
              "#fdca26"
             ],
             [
              1,
              "#f0f921"
             ]
            ],
            "type": "histogram2d"
           }
          ],
          "histogram2dcontour": [
           {
            "colorbar": {
             "outlinewidth": 0,
             "ticks": ""
            },
            "colorscale": [
             [
              0,
              "#0d0887"
             ],
             [
              0.1111111111111111,
              "#46039f"
             ],
             [
              0.2222222222222222,
              "#7201a8"
             ],
             [
              0.3333333333333333,
              "#9c179e"
             ],
             [
              0.4444444444444444,
              "#bd3786"
             ],
             [
              0.5555555555555556,
              "#d8576b"
             ],
             [
              0.6666666666666666,
              "#ed7953"
             ],
             [
              0.7777777777777778,
              "#fb9f3a"
             ],
             [
              0.8888888888888888,
              "#fdca26"
             ],
             [
              1,
              "#f0f921"
             ]
            ],
            "type": "histogram2dcontour"
           }
          ],
          "mesh3d": [
           {
            "colorbar": {
             "outlinewidth": 0,
             "ticks": ""
            },
            "type": "mesh3d"
           }
          ],
          "parcoords": [
           {
            "line": {
             "colorbar": {
              "outlinewidth": 0,
              "ticks": ""
             }
            },
            "type": "parcoords"
           }
          ],
          "pie": [
           {
            "automargin": true,
            "type": "pie"
           }
          ],
          "scatter": [
           {
            "fillpattern": {
             "fillmode": "overlay",
             "size": 10,
             "solidity": 0.2
            },
            "type": "scatter"
           }
          ],
          "scatter3d": [
           {
            "line": {
             "colorbar": {
              "outlinewidth": 0,
              "ticks": ""
             }
            },
            "marker": {
             "colorbar": {
              "outlinewidth": 0,
              "ticks": ""
             }
            },
            "type": "scatter3d"
           }
          ],
          "scattercarpet": [
           {
            "marker": {
             "colorbar": {
              "outlinewidth": 0,
              "ticks": ""
             }
            },
            "type": "scattercarpet"
           }
          ],
          "scattergeo": [
           {
            "marker": {
             "colorbar": {
              "outlinewidth": 0,
              "ticks": ""
             }
            },
            "type": "scattergeo"
           }
          ],
          "scattergl": [
           {
            "marker": {
             "colorbar": {
              "outlinewidth": 0,
              "ticks": ""
             }
            },
            "type": "scattergl"
           }
          ],
          "scattermap": [
           {
            "marker": {
             "colorbar": {
              "outlinewidth": 0,
              "ticks": ""
             }
            },
            "type": "scattermap"
           }
          ],
          "scattermapbox": [
           {
            "marker": {
             "colorbar": {
              "outlinewidth": 0,
              "ticks": ""
             }
            },
            "type": "scattermapbox"
           }
          ],
          "scatterpolar": [
           {
            "marker": {
             "colorbar": {
              "outlinewidth": 0,
              "ticks": ""
             }
            },
            "type": "scatterpolar"
           }
          ],
          "scatterpolargl": [
           {
            "marker": {
             "colorbar": {
              "outlinewidth": 0,
              "ticks": ""
             }
            },
            "type": "scatterpolargl"
           }
          ],
          "scatterternary": [
           {
            "marker": {
             "colorbar": {
              "outlinewidth": 0,
              "ticks": ""
             }
            },
            "type": "scatterternary"
           }
          ],
          "surface": [
           {
            "colorbar": {
             "outlinewidth": 0,
             "ticks": ""
            },
            "colorscale": [
             [
              0,
              "#0d0887"
             ],
             [
              0.1111111111111111,
              "#46039f"
             ],
             [
              0.2222222222222222,
              "#7201a8"
             ],
             [
              0.3333333333333333,
              "#9c179e"
             ],
             [
              0.4444444444444444,
              "#bd3786"
             ],
             [
              0.5555555555555556,
              "#d8576b"
             ],
             [
              0.6666666666666666,
              "#ed7953"
             ],
             [
              0.7777777777777778,
              "#fb9f3a"
             ],
             [
              0.8888888888888888,
              "#fdca26"
             ],
             [
              1,
              "#f0f921"
             ]
            ],
            "type": "surface"
           }
          ],
          "table": [
           {
            "cells": {
             "fill": {
              "color": "#EBF0F8"
             },
             "line": {
              "color": "white"
             }
            },
            "header": {
             "fill": {
              "color": "#C8D4E3"
             },
             "line": {
              "color": "white"
             }
            },
            "type": "table"
           }
          ]
         },
         "layout": {
          "annotationdefaults": {
           "arrowcolor": "#2a3f5f",
           "arrowhead": 0,
           "arrowwidth": 1
          },
          "autotypenumbers": "strict",
          "coloraxis": {
           "colorbar": {
            "outlinewidth": 0,
            "ticks": ""
           }
          },
          "colorscale": {
           "diverging": [
            [
             0,
             "#8e0152"
            ],
            [
             0.1,
             "#c51b7d"
            ],
            [
             0.2,
             "#de77ae"
            ],
            [
             0.3,
             "#f1b6da"
            ],
            [
             0.4,
             "#fde0ef"
            ],
            [
             0.5,
             "#f7f7f7"
            ],
            [
             0.6,
             "#e6f5d0"
            ],
            [
             0.7,
             "#b8e186"
            ],
            [
             0.8,
             "#7fbc41"
            ],
            [
             0.9,
             "#4d9221"
            ],
            [
             1,
             "#276419"
            ]
           ],
           "sequential": [
            [
             0,
             "#0d0887"
            ],
            [
             0.1111111111111111,
             "#46039f"
            ],
            [
             0.2222222222222222,
             "#7201a8"
            ],
            [
             0.3333333333333333,
             "#9c179e"
            ],
            [
             0.4444444444444444,
             "#bd3786"
            ],
            [
             0.5555555555555556,
             "#d8576b"
            ],
            [
             0.6666666666666666,
             "#ed7953"
            ],
            [
             0.7777777777777778,
             "#fb9f3a"
            ],
            [
             0.8888888888888888,
             "#fdca26"
            ],
            [
             1,
             "#f0f921"
            ]
           ],
           "sequentialminus": [
            [
             0,
             "#0d0887"
            ],
            [
             0.1111111111111111,
             "#46039f"
            ],
            [
             0.2222222222222222,
             "#7201a8"
            ],
            [
             0.3333333333333333,
             "#9c179e"
            ],
            [
             0.4444444444444444,
             "#bd3786"
            ],
            [
             0.5555555555555556,
             "#d8576b"
            ],
            [
             0.6666666666666666,
             "#ed7953"
            ],
            [
             0.7777777777777778,
             "#fb9f3a"
            ],
            [
             0.8888888888888888,
             "#fdca26"
            ],
            [
             1,
             "#f0f921"
            ]
           ]
          },
          "colorway": [
           "#636efa",
           "#EF553B",
           "#00cc96",
           "#ab63fa",
           "#FFA15A",
           "#19d3f3",
           "#FF6692",
           "#B6E880",
           "#FF97FF",
           "#FECB52"
          ],
          "font": {
           "color": "#2a3f5f"
          },
          "geo": {
           "bgcolor": "white",
           "lakecolor": "white",
           "landcolor": "#E5ECF6",
           "showlakes": true,
           "showland": true,
           "subunitcolor": "white"
          },
          "hoverlabel": {
           "align": "left"
          },
          "hovermode": "closest",
          "mapbox": {
           "style": "light"
          },
          "paper_bgcolor": "white",
          "plot_bgcolor": "#E5ECF6",
          "polar": {
           "angularaxis": {
            "gridcolor": "white",
            "linecolor": "white",
            "ticks": ""
           },
           "bgcolor": "#E5ECF6",
           "radialaxis": {
            "gridcolor": "white",
            "linecolor": "white",
            "ticks": ""
           }
          },
          "scene": {
           "xaxis": {
            "backgroundcolor": "#E5ECF6",
            "gridcolor": "white",
            "gridwidth": 2,
            "linecolor": "white",
            "showbackground": true,
            "ticks": "",
            "zerolinecolor": "white"
           },
           "yaxis": {
            "backgroundcolor": "#E5ECF6",
            "gridcolor": "white",
            "gridwidth": 2,
            "linecolor": "white",
            "showbackground": true,
            "ticks": "",
            "zerolinecolor": "white"
           },
           "zaxis": {
            "backgroundcolor": "#E5ECF6",
            "gridcolor": "white",
            "gridwidth": 2,
            "linecolor": "white",
            "showbackground": true,
            "ticks": "",
            "zerolinecolor": "white"
           }
          },
          "shapedefaults": {
           "line": {
            "color": "#2a3f5f"
           }
          },
          "ternary": {
           "aaxis": {
            "gridcolor": "white",
            "linecolor": "white",
            "ticks": ""
           },
           "baxis": {
            "gridcolor": "white",
            "linecolor": "white",
            "ticks": ""
           },
           "bgcolor": "#E5ECF6",
           "caxis": {
            "gridcolor": "white",
            "linecolor": "white",
            "ticks": ""
           }
          },
          "title": {
           "x": 0.05
          },
          "xaxis": {
           "automargin": true,
           "gridcolor": "white",
           "linecolor": "white",
           "ticks": "",
           "title": {
            "standoff": 15
           },
           "zerolinecolor": "white",
           "zerolinewidth": 2
          },
          "yaxis": {
           "automargin": true,
           "gridcolor": "white",
           "linecolor": "white",
           "ticks": "",
           "title": {
            "standoff": 15
           },
           "zerolinecolor": "white",
           "zerolinewidth": 2
          }
         }
        },
        "title": {
         "x": 0.05
        }
       }
      }
     },
     "metadata": {},
     "output_type": "display_data"
    }
   ],
   "source": [
    "import plotly.graph_objects as go\n",
    "\n",
    "# Define your data\n",
    "data = [\n",
    "    go.Scatter3d(\n",
    "        x=[0.0, -0.8, None, 0.0, -0.8, None, 0.0, 0.8, None, 0.0, 0.8, None, -0.8, -0.8, None, -0.8, 0.8, None, 0.8, -0.8, None, 0.8, 0.8, None],\n",
    "        y=[0.0, -0.6, None, 0.0, 0.6, None, 0.0, -0.6, None, 0.0, 0.6, None, -0.6, 0.6, None, 0.6, 0.6, None, -0.6, -0.6, None, 0.6, -0.6, None],\n",
    "        z=[0.0, 1.0, None, 0.0, 1.0, None, 0.0, 1.0, None, 0.0, 1.0, None, 1.0, 1.0, None, 1.0, 1.0, None, 1.0, 1.0, None, 1.0, 1.0, None],\n",
    "        mode=\"lines\",\n",
    "        name=\"camera 1\"\n",
    "    ),\n",
    "    go.Scatter3d(\n",
    "        x=[5.0, 4.2, None, 5.0, 4.2, None, 5.0, 5.8, None, 5.0, 5.8, None, 4.2, 4.2, None, 4.2, 5.8, None, 5.8, 4.2, None, 5.8, 5.8, None],\n",
    "        y=[0.0, -0.6, None, 0.0, 0.6, None, 0.0, -0.6, None, 0.0, 0.6, None, -0.6, 0.6, None, 0.6, 0.6, None, -0.6, -0.6, None, 0.6, -0.6, None],\n",
    "        z=[-5.0, -4.0, None, -5.0, -4.0, None, -5.0, -4.0, None, -5.0, -4.0, None, -4.0, -4.0, None, -4.0, -4.0, None, -4.0, -4.0, None, -4.0, -4.0, None],\n",
    "        mode=\"lines\",\n",
    "        name=\"camera 2\"\n",
    "    ),\n",
    "    go.Scatter3d(\n",
    "        x=[0.1],\n",
    "        y=[0.1],\n",
    "        z=[1.5],\n",
    "        mode=\"markers\",\n",
    "        name=\"GT point\",\n",
    "        marker=dict(size=2)\n",
    "    ),\n",
    "    go.Scatter3d(\n",
    "        x=[0.1023714151218403],\n",
    "        y=[0.16890260533047632],\n",
    "        z=[1.453409909325872],\n",
    "        mode=\"markers\",\n",
    "        name=\"DLT estimate\",\n",
    "        marker=dict(size=2)\n",
    "    ),\n",
    "    go.Scatter3d(\n",
    "        x=[0.10783485812100543],\n",
    "        y=[0.11608849005416458],\n",
    "        z=[1.444684619571376],\n",
    "        mode=\"markers\",\n",
    "        name=\"LOST estimate\",\n",
    "        marker=dict(size=2)\n",
    "    ),\n",
    "    go.Scatter3d(\n",
    "        x=[0.0, 0.14967333333333332, None],\n",
    "        y=[0.0, 0.15287333333333333, None],\n",
    "        z=[0.0, 2.0, None],\n",
    "        mode=\"lines+markers\",\n",
    "        name=\"ray 1\",\n",
    "        marker=dict(size=[0, 6, 0], symbol=\"diamond\")\n",
    "    ),\n",
    "    go.Scatter3d(\n",
    "        x=[5.0, -0.3196230769230777, None],\n",
    "        y=[0.0, 0.2455223076923077, None],\n",
    "        z=[-5.0, 2.0, None],\n",
    "        mode=\"lines+markers\",\n",
    "        name=\"ray 2\",\n",
    "        marker=dict(size=[0, 6, 0], symbol=\"diamond\")\n",
    "    )\n",
    "]\n",
    "\n",
    "# Define layout\n",
    "layout = go.Layout(\n",
    "    scene=dict(\n",
    "        xaxis=dict(backgroundcolor=\"#E5ECF6\", gridcolor=\"white\", gridwidth=2, linecolor=\"white\", showbackground=True, ticks=\"\", zerolinecolor=\"white\"),\n",
    "        yaxis=dict(backgroundcolor=\"#E5ECF6\", gridcolor=\"white\", gridwidth=2, linecolor=\"white\", showbackground=True, ticks=\"\", zerolinecolor=\"white\"),\n",
    "        zaxis=dict(backgroundcolor=\"#E5ECF6\", gridcolor=\"white\", gridwidth=2, linecolor=\"white\", showbackground=True, ticks=\"\", zerolinecolor=\"white\")\n",
    "    ),\n",
    "    margin=dict(l=0, r=0, t=0, b=0),\n",
    "    title=dict(x=0.05),\n",
    "    hovermode=\"closest\",\n",
    ")\n",
    "\n",
    "# Create figure\n",
    "fig = go.Figure(data=data, layout=layout)\n",
    "\n",
    "# Show figure\n",
    "fig.show()\n"
   ]
  }
 ],
 "metadata": {
  "kernelspec": {
   "display_name": ".venv",
   "language": "python",
   "name": "python3"
  },
  "language_info": {
   "codemirror_mode": {
    "name": "ipython",
    "version": 3
   },
   "file_extension": ".py",
   "mimetype": "text/x-python",
   "name": "python",
   "nbconvert_exporter": "python",
   "pygments_lexer": "ipython3",
   "version": "3.9.6"
  }
 },
 "nbformat": 4,
 "nbformat_minor": 2
}

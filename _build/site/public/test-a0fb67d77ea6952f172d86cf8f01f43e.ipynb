{
 "cells": [
  {
   "cell_type": "markdown",
   "metadata": {},
   "source": [
    "---\n",
    "file_format: mystnb\n",
    "kernelspec:\n",
    "  name: python3\n",
    "title:      LOST in Triangulation\n",
    "date:       2023-02-04\n",
    "authors:\n",
    "  - name:   Akshay Krishnan\n",
    "    url:    https://akshay-krishnan.github.io/\n",
    "  - name:   Sebastien Henry\n",
    "    url:    https://seal.ae.gatech.edu/node/14\n",
    "  - name:   Frank Dellaert\n",
    "    url:    https://dellaert.github.io/\n",
    "  - name:   John Christian\n",
    "    url:    https://seal.ae.gatech.edu/node/1\n",
    "\n",
    "---"
   ]
  },
  {
   "cell_type": "markdown",
   "metadata": {},
   "source": [
    "\n",
    "This post introduces the triangulation problem and some commonly used solutions (both optimal and sub-optimal), along with GTSAM code examples. We also discuss a recently proposed **linear optimal sine triangulation method (LOST)** and compare its performance to other methods. \n",
    "\n",
    ":::{admonition} TL;DR:\n",
    "\n",
    "LOST can be easily enabled in GTSAM by setting `useLOST=True` in `triangulatePoint3` to get state-of-the-art linear triangulation!\n",
    ":::\n",
    "\n",
    "# The triangulation problem\n",
    "\n",
    "**Triangulation** is the problem of estimating the location of a 3D point from multiple direction measurements. The problem is commonly encountered in the domains of 3D reconstruction, robot localization, and spacecraft navigation, amongst others. The \"direction measurements\" are usually obtained from 2D observations of the same 3D point in different cameras.\n",
    "\n",
    "## A simple solution: the Direct Linear Transform\n",
    "\n",
    "A commonly used method for triangulation is the **Direct Linear Transform (DLT)**, which poses the estimation of the 3D point as a least squares problem. Given the position of camera $i$ in the world frame as $\\mathbf{^wp_i}$ and the 2D measurement (in homogeneous coordinates) of the point in this camera as $\\mathbf{x_i}$, it uses the following constraint:\n",
    "\n",
    "```{math}\n",
    ":label: dlt-constraint\n",
    " \\mathbf{x_i} \\times \\mathbf{R^i_w} (\\mathbf{^wr} - \\mathbf{^wp_i})  &= \\mathbf{0} \\\\\n",
    "\n",
    "\\text{i.e } [\\mathbf{x_i} \\times] \\mathbf{R^i_w} (\\mathbf{^wr} - \\mathbf{^wp_i})  &= \\mathbf{0}\n",
    "```\n",
    "\n",
    "Here: \n",
    "- $\\mathbf{^wr}$ is the position of the 3D point in the world frame, which is to be estimated\n",
    "- $[\\mathbf{x_i} \\times]$ is a skew-symmetric matrix with elements $\\mathbf{x_i}$, such that $[\\mathbf{x_i} \\times] \\ \\mathbf{b} = \\mathbf{x_i} \\times \\mathbf{b}$ \n",
    "- $\\mathbf{R^i_w} \\in SO(3)$ is the rotation from world to camera frame $i$\n",
    "\n",
    "{eq}`dlt-constraint` can be expressed in terms of the pixel measurements $\\mathbf{u_i} = \\mathbf{K_i} \\mathbf{x_i}$ using the intrinsic calibration matrix of the camera $\\mathbf{K_i}$:\n",
    "\n",
    "```{math}\n",
    "    [\\mathbf{K_i^{-1}} \\mathbf{u_i} \\times] \\mathbf{R^i_w} (\\mathbf{^wr} - \\mathbf{^wp_i})  = \\mathbf{0}\n",
    "```\n",
    "\n",
    "With at least 2 camera measurements, this can be expressed as a least-squares problem of the form $\\mathbf{A x} = \\mathbf{b}$ with a unique solution (except in some degenerate conditions). For $n$ measurements, this equation is:\n",
    "\n",
    "$$\n",
    "\\begin{equation}\n",
    "\\left[\\begin{array}{c}\n",
    "\\left[\\mathbf{K_1^{-1}} \\mathbf{u_1} \\times\\right] \\mathbf{R^1_w} \\cr\t\\\\\n",
    "\\left[\\mathbf{K_2^{-1}} \\mathbf{u_2} \\times\\right] \\mathbf{R^2_w} \\cr\t\\\\\n",
    "... \\cr \\\\\n",
    "\\left[\\mathbf{K_n^{-1}} \\mathbf{u_n} \\times\\right] \\mathbf{R^n_w} \\cr\n",
    "\\end{array}\\right] \\mathbf{^wr} = \n",
    "\\left[\\begin{array}{c}\n",
    "\\left[\\mathbf{K_1^{-1}} \\mathbf{u_1} \\times\\right] \\mathbf{R^1_w} \\mathbf{^wp_1} \\cr\t\\\\\n",
    "\\left[\\mathbf{K_2^{-1}} \\mathbf{u_2} \\times\\right] \\mathbf{R^2_w} \\mathbf{^wp_2} \\cr\t\\\\\n",
    "... \\cr \\\\\n",
    "\\left[\\mathbf{K_n^{-1}} \\mathbf{u_n} \\times\\right] \\mathbf{R^n_w} \\mathbf{^wp_n} \\cr\n",
    "\\end{array}\\right]\n",
    "\\end{equation}\n",
    "$$ (least-squares)\n",
    "\n",
    "\n",
    "DLT solves the above equation using standard least-squares techniques. It also has interesting connections to the trigonometric sine rule, as discussed in the [LOST paper](https://doi.org/10.2514/1.G006989) ([Arxiv](https://arxiv.org/pdf/2205.12197.pdf)).\n",
    "\n",
    "The `triangulatePoint3` function in GTSAM provides a convenient way to triangulate points using DLT. Let's look at an example of triangulating a point from noisy measurements. \n",
    "\n",
    "```python\n",
    "import gtsam\n",
    "import numpy as np\n",
    "from gtsam import Pose3, Rot3, Point3\n",
    "\n",
    "# Define parameters for 2 cameras, with shared intrinsics.\n",
    "pose1 = Pose3()\n",
    "pose2 = Pose3(Rot3(), Point3(5., 0., -5.))\n",
    "intrinsics = gtsam.Cal3_S2()\n",
    "camera1 = gtsam.PinholeCameraCal3_S2(pose1, intrinsics)\n",
    "camera2 = gtsam.PinholeCameraCal3_S2(pose2, intrinsics)\n",
    "cameras = gtsam.CameraSetCal3_S2([camera1, camera2])\n",
    "\n",
    "# Define a 3D point, generate measurements by projecting it to the \n",
    "# cameras and adding some noise.\n",
    "landmark = Point3(0.1, 0.1, 1.5)\n",
    "m1_noisy = cameras[0].project(landmark) + gtsam.Point2(0.00817, 0.00977)\n",
    "m2_noisy = cameras[1].project(landmark) + gtsam.Point2(-0.00610, 0.01969)\n",
    "measurements = gtsam.Point2Vector([m1_noisy, m2_noisy])\n",
    "\n",
    "# Triangulate!\n",
    "dlt_estimate = gtsam.triangulatePoint3(cameras, measurements, rank_tol=1e-9, optimize=False)\n",
    "print(\"DLT estimation error: {:.04f}\".format(np.linalg.norm(dlt_estimate - landmark)))\n",
    "```\n",
    "\n",
    "```sh\n",
    "DLT estimation error: 0.0832\n",
    "```\n",
    "\n",
    "Here is an interactive visualization of the DLT estimate, the two camera frustums, and the back-projected rays. Note the difference between the ground truth and the triangulated point. We shall revisit this example below, and compare it against the result from other methods."
   ]
  },
  {
   "cell_type": "code",
   "execution_count": 5,
   "metadata": {
    "tags": [
     "hide-input"
    ]
   },
   "outputs": [
    {
     "data": {
      "application/vnd.plotly.v1+json": {
       "config": {
        "plotlyServerURL": "https://plot.ly"
       },
       "data": [
        {
         "mode": "lines",
         "name": "camera 1",
         "type": "scatter3d",
         "x": [
          0,
          -0.8,
          null,
          0,
          -0.8,
          null,
          0,
          0.8,
          null,
          0,
          0.8,
          null,
          -0.8,
          -0.8,
          null,
          -0.8,
          0.8,
          null,
          0.8,
          -0.8,
          null,
          0.8,
          0.8,
          null
         ],
         "y": [
          0,
          -0.6,
          null,
          0,
          0.6,
          null,
          0,
          -0.6,
          null,
          0,
          0.6,
          null,
          -0.6,
          0.6,
          null,
          0.6,
          0.6,
          null,
          -0.6,
          -0.6,
          null,
          0.6,
          -0.6,
          null
         ],
         "z": [
          0,
          1,
          null,
          0,
          1,
          null,
          0,
          1,
          null,
          0,
          1,
          null,
          1,
          1,
          null,
          1,
          1,
          null,
          1,
          1,
          null,
          1,
          1,
          null
         ]
        },
        {
         "mode": "lines",
         "name": "camera 2",
         "type": "scatter3d",
         "x": [
          5,
          4.2,
          null,
          5,
          4.2,
          null,
          5,
          5.8,
          null,
          5,
          5.8,
          null,
          4.2,
          4.2,
          null,
          4.2,
          5.8,
          null,
          5.8,
          4.2,
          null,
          5.8,
          5.8,
          null
         ],
         "y": [
          0,
          -0.6,
          null,
          0,
          0.6,
          null,
          0,
          -0.6,
          null,
          0,
          0.6,
          null,
          -0.6,
          0.6,
          null,
          0.6,
          0.6,
          null,
          -0.6,
          -0.6,
          null,
          0.6,
          -0.6,
          null
         ],
         "z": [
          -5,
          -4,
          null,
          -5,
          -4,
          null,
          -5,
          -4,
          null,
          -5,
          -4,
          null,
          -4,
          -4,
          null,
          -4,
          -4,
          null,
          -4,
          -4,
          null,
          -4,
          -4,
          null
         ]
        },
        {
         "marker": {
          "size": 2
         },
         "mode": "markers",
         "name": "GT point",
         "type": "scatter3d",
         "x": [
          0.1
         ],
         "y": [
          0.1
         ],
         "z": [
          1.5
         ]
        },
        {
         "marker": {
          "size": 2
         },
         "mode": "markers",
         "name": "DLT estimate",
         "type": "scatter3d",
         "x": [
          0.1023714151218403
         ],
         "y": [
          0.16890260533047632
         ],
         "z": [
          1.453409909325872
         ]
        },
        {
         "marker": {
          "size": 2
         },
         "mode": "markers",
         "name": "LOST estimate",
         "type": "scatter3d",
         "x": [
          0.10783485812100543
         ],
         "y": [
          0.11608849005416458
         ],
         "z": [
          1.444684619571376
         ]
        },
        {
         "marker": {
          "size": [
           0,
           6,
           0
          ],
          "symbol": "diamond"
         },
         "mode": "lines+markers",
         "name": "ray 1",
         "type": "scatter3d",
         "x": [
          0,
          0.14967333333333332,
          null
         ],
         "y": [
          0,
          0.15287333333333333,
          null
         ],
         "z": [
          0,
          2,
          null
         ]
        },
        {
         "marker": {
          "size": [
           0,
           6,
           0
          ],
          "symbol": "diamond"
         },
         "mode": "lines+markers",
         "name": "ray 2",
         "type": "scatter3d",
         "x": [
          5,
          -0.3196230769230777,
          null
         ],
         "y": [
          0,
          0.2455223076923077,
          null
         ],
         "z": [
          -5,
          2,
          null
         ]
        }
       ],
       "layout": {
        "hovermode": "closest",
        "margin": {
         "b": 0,
         "l": 0,
         "r": 0,
         "t": 0
        },
        "scene": {
         "xaxis": {
          "backgroundcolor": "#E5ECF6",
          "gridcolor": "white",
          "gridwidth": 2,
          "linecolor": "white",
          "showbackground": true,
          "ticks": "",
          "zerolinecolor": "white"
         },
         "yaxis": {
          "backgroundcolor": "#E5ECF6",
          "gridcolor": "white",
          "gridwidth": 2,
          "linecolor": "white",
          "showbackground": true,
          "ticks": "",
          "zerolinecolor": "white"
         },
         "zaxis": {
          "backgroundcolor": "#E5ECF6",
          "gridcolor": "white",
          "gridwidth": 2,
          "linecolor": "white",
          "showbackground": true,
          "ticks": "",
          "zerolinecolor": "white"
         }
        },
        "template": {
         "data": {
          "bar": [
           {
            "error_x": {
             "color": "#2a3f5f"
            },
            "error_y": {
             "color": "#2a3f5f"
            },
            "marker": {
             "line": {
              "color": "#E5ECF6",
              "width": 0.5
             },
             "pattern": {
              "fillmode": "overlay",
              "size": 10,
              "solidity": 0.2
             }
            },
            "type": "bar"
           }
          ],
          "barpolar": [
           {
            "marker": {
             "line": {
              "color": "#E5ECF6",
              "width": 0.5
             },
             "pattern": {
              "fillmode": "overlay",
              "size": 10,
              "solidity": 0.2
             }
            },
            "type": "barpolar"
           }
          ],
          "carpet": [
           {
            "aaxis": {
             "endlinecolor": "#2a3f5f",
             "gridcolor": "white",
             "linecolor": "white",
             "minorgridcolor": "white",
             "startlinecolor": "#2a3f5f"
            },
            "baxis": {
             "endlinecolor": "#2a3f5f",
             "gridcolor": "white",
             "linecolor": "white",
             "minorgridcolor": "white",
             "startlinecolor": "#2a3f5f"
            },
            "type": "carpet"
           }
          ],
          "choropleth": [
           {
            "colorbar": {
             "outlinewidth": 0,
             "ticks": ""
            },
            "type": "choropleth"
           }
          ],
          "contour": [
           {
            "colorbar": {
             "outlinewidth": 0,
             "ticks": ""
            },
            "colorscale": [
             [
              0,
              "#0d0887"
             ],
             [
              0.1111111111111111,
              "#46039f"
             ],
             [
              0.2222222222222222,
              "#7201a8"
             ],
             [
              0.3333333333333333,
              "#9c179e"
             ],
             [
              0.4444444444444444,
              "#bd3786"
             ],
             [
              0.5555555555555556,
              "#d8576b"
             ],
             [
              0.6666666666666666,
              "#ed7953"
             ],
             [
              0.7777777777777778,
              "#fb9f3a"
             ],
             [
              0.8888888888888888,
              "#fdca26"
             ],
             [
              1,
              "#f0f921"
             ]
            ],
            "type": "contour"
           }
          ],
          "contourcarpet": [
           {
            "colorbar": {
             "outlinewidth": 0,
             "ticks": ""
            },
            "type": "contourcarpet"
           }
          ],
          "heatmap": [
           {
            "colorbar": {
             "outlinewidth": 0,
             "ticks": ""
            },
            "colorscale": [
             [
              0,
              "#0d0887"
             ],
             [
              0.1111111111111111,
              "#46039f"
             ],
             [
              0.2222222222222222,
              "#7201a8"
             ],
             [
              0.3333333333333333,
              "#9c179e"
             ],
             [
              0.4444444444444444,
              "#bd3786"
             ],
             [
              0.5555555555555556,
              "#d8576b"
             ],
             [
              0.6666666666666666,
              "#ed7953"
             ],
             [
              0.7777777777777778,
              "#fb9f3a"
             ],
             [
              0.8888888888888888,
              "#fdca26"
             ],
             [
              1,
              "#f0f921"
             ]
            ],
            "type": "heatmap"
           }
          ],
          "histogram": [
           {
            "marker": {
             "pattern": {
              "fillmode": "overlay",
              "size": 10,
              "solidity": 0.2
             }
            },
            "type": "histogram"
           }
          ],
          "histogram2d": [
           {
            "colorbar": {
             "outlinewidth": 0,
             "ticks": ""
            },
            "colorscale": [
             [
              0,
              "#0d0887"
             ],
             [
              0.1111111111111111,
              "#46039f"
             ],
             [
              0.2222222222222222,
              "#7201a8"
             ],
             [
              0.3333333333333333,
              "#9c179e"
             ],
             [
              0.4444444444444444,
              "#bd3786"
             ],
             [
              0.5555555555555556,
              "#d8576b"
             ],
             [
              0.6666666666666666,
              "#ed7953"
             ],
             [
              0.7777777777777778,
              "#fb9f3a"
             ],
             [
              0.8888888888888888,
              "#fdca26"
             ],
             [
              1,
              "#f0f921"
             ]
            ],
            "type": "histogram2d"
           }
          ],
          "histogram2dcontour": [
           {
            "colorbar": {
             "outlinewidth": 0,
             "ticks": ""
            },
            "colorscale": [
             [
              0,
              "#0d0887"
             ],
             [
              0.1111111111111111,
              "#46039f"
             ],
             [
              0.2222222222222222,
              "#7201a8"
             ],
             [
              0.3333333333333333,
              "#9c179e"
             ],
             [
              0.4444444444444444,
              "#bd3786"
             ],
             [
              0.5555555555555556,
              "#d8576b"
             ],
             [
              0.6666666666666666,
              "#ed7953"
             ],
             [
              0.7777777777777778,
              "#fb9f3a"
             ],
             [
              0.8888888888888888,
              "#fdca26"
             ],
             [
              1,
              "#f0f921"
             ]
            ],
            "type": "histogram2dcontour"
           }
          ],
          "mesh3d": [
           {
            "colorbar": {
             "outlinewidth": 0,
             "ticks": ""
            },
            "type": "mesh3d"
           }
          ],
          "parcoords": [
           {
            "line": {
             "colorbar": {
              "outlinewidth": 0,
              "ticks": ""
             }
            },
            "type": "parcoords"
           }
          ],
          "pie": [
           {
            "automargin": true,
            "type": "pie"
           }
          ],
          "scatter": [
           {
            "fillpattern": {
             "fillmode": "overlay",
             "size": 10,
             "solidity": 0.2
            },
            "type": "scatter"
           }
          ],
          "scatter3d": [
           {
            "line": {
             "colorbar": {
              "outlinewidth": 0,
              "ticks": ""
             }
            },
            "marker": {
             "colorbar": {
              "outlinewidth": 0,
              "ticks": ""
             }
            },
            "type": "scatter3d"
           }
          ],
          "scattercarpet": [
           {
            "marker": {
             "colorbar": {
              "outlinewidth": 0,
              "ticks": ""
             }
            },
            "type": "scattercarpet"
           }
          ],
          "scattergeo": [
           {
            "marker": {
             "colorbar": {
              "outlinewidth": 0,
              "ticks": ""
             }
            },
            "type": "scattergeo"
           }
          ],
          "scattergl": [
           {
            "marker": {
             "colorbar": {
              "outlinewidth": 0,
              "ticks": ""
             }
            },
            "type": "scattergl"
           }
          ],
          "scattermap": [
           {
            "marker": {
             "colorbar": {
              "outlinewidth": 0,
              "ticks": ""
             }
            },
            "type": "scattermap"
           }
          ],
          "scattermapbox": [
           {
            "marker": {
             "colorbar": {
              "outlinewidth": 0,
              "ticks": ""
             }
            },
            "type": "scattermapbox"
           }
          ],
          "scatterpolar": [
           {
            "marker": {
             "colorbar": {
              "outlinewidth": 0,
              "ticks": ""
             }
            },
            "type": "scatterpolar"
           }
          ],
          "scatterpolargl": [
           {
            "marker": {
             "colorbar": {
              "outlinewidth": 0,
              "ticks": ""
             }
            },
            "type": "scatterpolargl"
           }
          ],
          "scatterternary": [
           {
            "marker": {
             "colorbar": {
              "outlinewidth": 0,
              "ticks": ""
             }
            },
            "type": "scatterternary"
           }
          ],
          "surface": [
           {
            "colorbar": {
             "outlinewidth": 0,
             "ticks": ""
            },
            "colorscale": [
             [
              0,
              "#0d0887"
             ],
             [
              0.1111111111111111,
              "#46039f"
             ],
             [
              0.2222222222222222,
              "#7201a8"
             ],
             [
              0.3333333333333333,
              "#9c179e"
             ],
             [
              0.4444444444444444,
              "#bd3786"
             ],
             [
              0.5555555555555556,
              "#d8576b"
             ],
             [
              0.6666666666666666,
              "#ed7953"
             ],
             [
              0.7777777777777778,
              "#fb9f3a"
             ],
             [
              0.8888888888888888,
              "#fdca26"
             ],
             [
              1,
              "#f0f921"
             ]
            ],
            "type": "surface"
           }
          ],
          "table": [
           {
            "cells": {
             "fill": {
              "color": "#EBF0F8"
             },
             "line": {
              "color": "white"
             }
            },
            "header": {
             "fill": {
              "color": "#C8D4E3"
             },
             "line": {
              "color": "white"
             }
            },
            "type": "table"
           }
          ]
         },
         "layout": {
          "annotationdefaults": {
           "arrowcolor": "#2a3f5f",
           "arrowhead": 0,
           "arrowwidth": 1
          },
          "autotypenumbers": "strict",
          "coloraxis": {
           "colorbar": {
            "outlinewidth": 0,
            "ticks": ""
           }
          },
          "colorscale": {
           "diverging": [
            [
             0,
             "#8e0152"
            ],
            [
             0.1,
             "#c51b7d"
            ],
            [
             0.2,
             "#de77ae"
            ],
            [
             0.3,
             "#f1b6da"
            ],
            [
             0.4,
             "#fde0ef"
            ],
            [
             0.5,
             "#f7f7f7"
            ],
            [
             0.6,
             "#e6f5d0"
            ],
            [
             0.7,
             "#b8e186"
            ],
            [
             0.8,
             "#7fbc41"
            ],
            [
             0.9,
             "#4d9221"
            ],
            [
             1,
             "#276419"
            ]
           ],
           "sequential": [
            [
             0,
             "#0d0887"
            ],
            [
             0.1111111111111111,
             "#46039f"
            ],
            [
             0.2222222222222222,
             "#7201a8"
            ],
            [
             0.3333333333333333,
             "#9c179e"
            ],
            [
             0.4444444444444444,
             "#bd3786"
            ],
            [
             0.5555555555555556,
             "#d8576b"
            ],
            [
             0.6666666666666666,
             "#ed7953"
            ],
            [
             0.7777777777777778,
             "#fb9f3a"
            ],
            [
             0.8888888888888888,
             "#fdca26"
            ],
            [
             1,
             "#f0f921"
            ]
           ],
           "sequentialminus": [
            [
             0,
             "#0d0887"
            ],
            [
             0.1111111111111111,
             "#46039f"
            ],
            [
             0.2222222222222222,
             "#7201a8"
            ],
            [
             0.3333333333333333,
             "#9c179e"
            ],
            [
             0.4444444444444444,
             "#bd3786"
            ],
            [
             0.5555555555555556,
             "#d8576b"
            ],
            [
             0.6666666666666666,
             "#ed7953"
            ],
            [
             0.7777777777777778,
             "#fb9f3a"
            ],
            [
             0.8888888888888888,
             "#fdca26"
            ],
            [
             1,
             "#f0f921"
            ]
           ]
          },
          "colorway": [
           "#636efa",
           "#EF553B",
           "#00cc96",
           "#ab63fa",
           "#FFA15A",
           "#19d3f3",
           "#FF6692",
           "#B6E880",
           "#FF97FF",
           "#FECB52"
          ],
          "font": {
           "color": "#2a3f5f"
          },
          "geo": {
           "bgcolor": "white",
           "lakecolor": "white",
           "landcolor": "#E5ECF6",
           "showlakes": true,
           "showland": true,
           "subunitcolor": "white"
          },
          "hoverlabel": {
           "align": "left"
          },
          "hovermode": "closest",
          "mapbox": {
           "style": "light"
          },
          "paper_bgcolor": "white",
          "plot_bgcolor": "#E5ECF6",
          "polar": {
           "angularaxis": {
            "gridcolor": "white",
            "linecolor": "white",
            "ticks": ""
           },
           "bgcolor": "#E5ECF6",
           "radialaxis": {
            "gridcolor": "white",
            "linecolor": "white",
            "ticks": ""
           }
          },
          "scene": {
           "xaxis": {
            "backgroundcolor": "#E5ECF6",
            "gridcolor": "white",
            "gridwidth": 2,
            "linecolor": "white",
            "showbackground": true,
            "ticks": "",
            "zerolinecolor": "white"
           },
           "yaxis": {
            "backgroundcolor": "#E5ECF6",
            "gridcolor": "white",
            "gridwidth": 2,
            "linecolor": "white",
            "showbackground": true,
            "ticks": "",
            "zerolinecolor": "white"
           },
           "zaxis": {
            "backgroundcolor": "#E5ECF6",
            "gridcolor": "white",
            "gridwidth": 2,
            "linecolor": "white",
            "showbackground": true,
            "ticks": "",
            "zerolinecolor": "white"
           }
          },
          "shapedefaults": {
           "line": {
            "color": "#2a3f5f"
           }
          },
          "ternary": {
           "aaxis": {
            "gridcolor": "white",
            "linecolor": "white",
            "ticks": ""
           },
           "baxis": {
            "gridcolor": "white",
            "linecolor": "white",
            "ticks": ""
           },
           "bgcolor": "#E5ECF6",
           "caxis": {
            "gridcolor": "white",
            "linecolor": "white",
            "ticks": ""
           }
          },
          "title": {
           "x": 0.05
          },
          "xaxis": {
           "automargin": true,
           "gridcolor": "white",
           "linecolor": "white",
           "ticks": "",
           "title": {
            "standoff": 15
           },
           "zerolinecolor": "white",
           "zerolinewidth": 2
          },
          "yaxis": {
           "automargin": true,
           "gridcolor": "white",
           "linecolor": "white",
           "ticks": "",
           "title": {
            "standoff": 15
           },
           "zerolinecolor": "white",
           "zerolinewidth": 2
          }
         }
        },
        "title": {
         "x": 0.05
        }
       }
      }
     },
     "metadata": {},
     "output_type": "display_data"
    }
   ],
   "source": [
    "import plotly.graph_objects as go\n",
    "\n",
    "# Define your data\n",
    "data = [\n",
    "    go.Scatter3d(\n",
    "        x=[0.0, -0.8, None, 0.0, -0.8, None, 0.0, 0.8, None, 0.0, 0.8, None, -0.8, -0.8, None, -0.8, 0.8, None, 0.8, -0.8, None, 0.8, 0.8, None],\n",
    "        y=[0.0, -0.6, None, 0.0, 0.6, None, 0.0, -0.6, None, 0.0, 0.6, None, -0.6, 0.6, None, 0.6, 0.6, None, -0.6, -0.6, None, 0.6, -0.6, None],\n",
    "        z=[0.0, 1.0, None, 0.0, 1.0, None, 0.0, 1.0, None, 0.0, 1.0, None, 1.0, 1.0, None, 1.0, 1.0, None, 1.0, 1.0, None, 1.0, 1.0, None],\n",
    "        mode=\"lines\",\n",
    "        name=\"camera 1\"\n",
    "    ),\n",
    "    go.Scatter3d(\n",
    "        x=[5.0, 4.2, None, 5.0, 4.2, None, 5.0, 5.8, None, 5.0, 5.8, None, 4.2, 4.2, None, 4.2, 5.8, None, 5.8, 4.2, None, 5.8, 5.8, None],\n",
    "        y=[0.0, -0.6, None, 0.0, 0.6, None, 0.0, -0.6, None, 0.0, 0.6, None, -0.6, 0.6, None, 0.6, 0.6, None, -0.6, -0.6, None, 0.6, -0.6, None],\n",
    "        z=[-5.0, -4.0, None, -5.0, -4.0, None, -5.0, -4.0, None, -5.0, -4.0, None, -4.0, -4.0, None, -4.0, -4.0, None, -4.0, -4.0, None, -4.0, -4.0, None],\n",
    "        mode=\"lines\",\n",
    "        name=\"camera 2\"\n",
    "    ),\n",
    "    go.Scatter3d(\n",
    "        x=[0.1],\n",
    "        y=[0.1],\n",
    "        z=[1.5],\n",
    "        mode=\"markers\",\n",
    "        name=\"GT point\",\n",
    "        marker=dict(size=2)\n",
    "    ),\n",
    "    go.Scatter3d(\n",
    "        x=[0.1023714151218403],\n",
    "        y=[0.16890260533047632],\n",
    "        z=[1.453409909325872],\n",
    "        mode=\"markers\",\n",
    "        name=\"DLT estimate\",\n",
    "        marker=dict(size=2)\n",
    "    ),\n",
    "    go.Scatter3d(\n",
    "        x=[0.10783485812100543],\n",
    "        y=[0.11608849005416458],\n",
    "        z=[1.444684619571376],\n",
    "        mode=\"markers\",\n",
    "        name=\"LOST estimate\",\n",
    "        marker=dict(size=2)\n",
    "    ),\n",
    "    go.Scatter3d(\n",
    "        x=[0.0, 0.14967333333333332, None],\n",
    "        y=[0.0, 0.15287333333333333, None],\n",
    "        z=[0.0, 2.0, None],\n",
    "        mode=\"lines+markers\",\n",
    "        name=\"ray 1\",\n",
    "        marker=dict(size=[0, 6, 0], symbol=\"diamond\")\n",
    "    ),\n",
    "    go.Scatter3d(\n",
    "        x=[5.0, -0.3196230769230777, None],\n",
    "        y=[0.0, 0.2455223076923077, None],\n",
    "        z=[-5.0, 2.0, None],\n",
    "        mode=\"lines+markers\",\n",
    "        name=\"ray 2\",\n",
    "        marker=dict(size=[0, 6, 0], symbol=\"diamond\")\n",
    "    )\n",
    "]\n",
    "\n",
    "# Define layout\n",
    "layout = go.Layout(\n",
    "    scene=dict(\n",
    "        xaxis=dict(backgroundcolor=\"#E5ECF6\", gridcolor=\"white\", gridwidth=2, linecolor=\"white\", showbackground=True, ticks=\"\", zerolinecolor=\"white\"),\n",
    "        yaxis=dict(backgroundcolor=\"#E5ECF6\", gridcolor=\"white\", gridwidth=2, linecolor=\"white\", showbackground=True, ticks=\"\", zerolinecolor=\"white\"),\n",
    "        zaxis=dict(backgroundcolor=\"#E5ECF6\", gridcolor=\"white\", gridwidth=2, linecolor=\"white\", showbackground=True, ticks=\"\", zerolinecolor=\"white\")\n",
    "    ),\n",
    "    margin=dict(l=0, r=0, t=0, b=0),\n",
    "    title=dict(x=0.05),\n",
    "    hovermode=\"closest\",\n",
    ")\n",
    "\n",
    "# Create figure\n",
    "fig = go.Figure(data=data, layout=layout)\n",
    "\n",
    "# Show figure\n",
    "fig.show()"
   ]
  }
 ],
 "metadata": {
  "kernelspec": {
   "display_name": ".venv",
   "language": "python",
   "name": "python3"
  },
  "language_info": {
   "codemirror_mode": {
    "name": "ipython",
    "version": 3
   },
   "file_extension": ".py",
   "mimetype": "text/x-python",
   "name": "python",
   "nbconvert_exporter": "python",
   "pygments_lexer": "ipython3",
   "version": "3.9.6"
  }
 },
 "nbformat": 4,
 "nbformat_minor": 2
}

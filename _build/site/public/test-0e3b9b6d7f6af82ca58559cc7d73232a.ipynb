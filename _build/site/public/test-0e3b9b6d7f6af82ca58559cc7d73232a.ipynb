{
 "cells": [
  {
   "cell_type": "markdown",
   "metadata": {},
   "source": [
    "---\n",
    "file_format: mystnb\n",
    "kernelspec:\n",
    "  name: python3\n",
    "title:      LOST in Triangulation\n",
    "date:       2023-02-04\n",
    "authors:\n",
    "  - name:   Akshay Krishnan\n",
    "    url:    https://akshay-krishnan.github.io/\n",
    "  - name:   Sebastien Henry\n",
    "    url:    https://seal.ae.gatech.edu/node/14\n",
    "  - name:   Frank Dellaert\n",
    "    url:    https://dellaert.github.io/\n",
    "  - name:   John Christian\n",
    "    url:    https://seal.ae.gatech.edu/node/1\n",
    "\n",
    "---"
   ]
  },
  {
   "cell_type": "code",
   "execution_count": 1,
   "metadata": {},
   "outputs": [
    {
     "name": "stdout",
     "output_type": "stream",
     "text": [
      "hello world\n"
     ]
    }
   ],
   "source": [
    "print(\"hello world\")"
   ]
  },
  {
   "cell_type": "code",
   "execution_count": null,
   "metadata": {},
   "outputs": [],
   "source": [
    "import plotly.express as px\n",
    "import plotly.io as pio\n",
    "\n",
    "# Create a sample Plotly figure\n",
    "fig = px.scatter(x=[1, 2, 3], y=[3, 1, 6], title=\"Sample Scatter Plot\")\n",
    "\n",
    "# Convert figure to HTML without Plotly JS (we will add it manually)\n",
    "html_content = pio.to_html(fig, full_html=False, include_plotlyjs=False)\n",
    "\n",
    "# Define Plotly CDN script tag\n",
    "plotly_js = '<script src=\"https://cdn.plot.ly/plotly-2.8.3.min.js\"></script>'\n",
    "\n",
    "fig"
   ]
  }
 ],
 "metadata": {
  "kernelspec": {
   "display_name": ".venv",
   "language": "python",
   "name": "python3"
  },
  "language_info": {
   "codemirror_mode": {
    "name": "ipython",
    "version": 3
   },
   "file_extension": ".py",
   "mimetype": "text/x-python",
   "name": "python",
   "nbconvert_exporter": "python",
   "pygments_lexer": "ipython3",
   "version": "3.9.6"
  }
 },
 "nbformat": 4,
 "nbformat_minor": 2
}

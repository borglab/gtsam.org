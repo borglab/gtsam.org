{
 "cells": [
  {
   "cell_type": "code",
   "execution_count": null,
   "id": "comparable-balance",
   "metadata": {},
   "outputs": [],
   "source": [
    "%run minimum_lqr_fg.py"
   ]
  },
  {
   "cell_type": "code",
   "execution_count": null,
   "id": "coral-proof",
   "metadata": {
    "scrolled": true
   },
   "outputs": [],
   "source": [
    "%run dynamics_lti.py"
   ]
  },
  {
   "cell_type": "code",
   "execution_count": null,
   "id": "seven-meaning",
   "metadata": {},
   "outputs": [],
   "source": [
    "%run lqr.py"
   ]
  },
  {
   "cell_type": "code",
   "execution_count": null,
   "id": "german-coffee",
   "metadata": {},
   "outputs": [],
   "source": [
    "%run example0_ricatti.py"
   ]
  },
  {
   "cell_type": "code",
   "execution_count": null,
   "id": "framed-insider",
   "metadata": {},
   "outputs": [],
   "source": [
    "%run example1_factorgraph.py"
   ]
  },
  {
   "cell_type": "code",
   "execution_count": null,
   "id": "equipped-school",
   "metadata": {},
   "outputs": [],
   "source": []
  }
 ],
 "metadata": {
  "kernelspec": {
   "display_name": "Python 3",
   "language": "python",
   "name": "python3"
  },
  "language_info": {
   "codemirror_mode": {
    "name": "ipython",
    "version": 3
   },
   "file_extension": ".py",
   "mimetype": "text/x-python",
   "name": "python",
   "nbconvert_exporter": "python",
   "pygments_lexer": "ipython3",
   "version": "3.8.3"
  }
 },
 "nbformat": 4,
 "nbformat_minor": 5
}
